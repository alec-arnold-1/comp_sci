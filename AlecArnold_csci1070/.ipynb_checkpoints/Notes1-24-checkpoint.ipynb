{
 "cells": [
  {
   "cell_type": "markdown",
   "id": "dea33197-cc81-46cb-bdc1-877ef3038323",
   "metadata": {},
   "source": [
    "# 1/24 Warmup"
   ]
  },
  {
   "cell_type": "code",
   "execution_count": 8,
   "id": "9f0983dd-4c16-47ac-a81f-e98a45084a2a",
   "metadata": {},
   "outputs": [
    {
     "name": "stdin",
     "output_type": "stream",
     "text": [
      "Enter a number:  50\n"
     ]
    },
    {
     "name": "stdout",
     "output_type": "stream",
     "text": [
      "The variable x has a value of 50.\n"
     ]
    }
   ],
   "source": [
    "x = str(input(\"Enter a number: \"))\n",
    "print(\"The variable x has a value of \"+ x + \".\")\n"
   ]
  },
  {
   "cell_type": "markdown",
   "id": "01b4849d-1ed7-4d84-a1f6-f1ddbaf0d75e",
   "metadata": {},
   "source": [
    "The command ls stands for list, and it gives you a list of files"
   ]
  },
  {
   "cell_type": "markdown",
   "id": "65415941-c97f-4627-8e2e-c727bb3e5195",
   "metadata": {},
   "source": [
    "The command cd stands for change directory, and it allows you to navigate your directories"
   ]
  },
  {
   "cell_type": "markdown",
   "id": "669b7abb-ec6a-465e-a768-da0226ae762f",
   "metadata": {},
   "source": [
    "# Loops and Functions"
   ]
  },
  {
   "cell_type": "code",
   "execution_count": 13,
   "id": "621fa03c-c93b-47dc-9232-369ce94fd917",
   "metadata": {},
   "outputs": [
    {
     "name": "stdout",
     "output_type": "stream",
     "text": [
      "A is greater.\n"
     ]
    }
   ],
   "source": [
    "#loops are flow control. They change how data moves through the application.\n",
    "# if...elif...else\n",
    "#if a equals b, return \"they are equal\". If a > b return \"a is greater\"\n",
    "# and if b > a return \"b is greater\".\n",
    "\n",
    "\n",
    "\n",
    "a = 4\n",
    "b = 2\n",
    "\n",
    "if a == b:\n",
    "    print(\"The values are equal.\")\n",
    "elif a>b:\n",
    "    print(\"A is greater.\")\n",
    "else:\n",
    "    print(\"B is greater.\")"
   ]
  },
  {
   "cell_type": "code",
   "execution_count": 14,
   "id": "3524af7d-ccad-40ab-847a-88247a819cf0",
   "metadata": {},
   "outputs": [],
   "source": [
    "#while loops\n",
    "# repeatedly test an expressin and continue to run whatever is in the loop\n",
    "# until a stopping condition is met \n",
    "\n",
    "x = 7\n",
    "while x > 5:\n",
    "    print(x)\n",
    "#decrement our x so it can stop\n",
    "# x = x - 1\n",
    "x-=1 # This means the same exact thing as x = x - 1"
   ]
  },
  {
   "cell_type": "code",
   "execution_count": null,
   "id": "3d65a91a-00d7-4c1d-9944-d7838ab9d15c",
   "metadata": {},
   "outputs": [],
   "source": [
    "#Create a scenario where x stars at 3 and incremented by 1\n",
    "#You print the value of x while x is less than 10\n",
    "# TS BROKEN\n",
    "x = 3\n",
    "while x < 10:\n",
    "    print(x)\n",
    "x+=1"
   ]
  },
  {
   "cell_type": "code",
   "execution_count": 2,
   "id": "23f7795e-788f-412a-9973-f88cef854e50",
   "metadata": {},
   "outputs": [
    {
     "name": "stdout",
     "output_type": "stream",
     "text": [
      "Dexter\n",
      "Pharoah\n",
      "Oreo\n",
      "Mitas\n",
      "Enzo\n",
      "Warmonger\n"
     ]
    }
   ],
   "source": [
    "# for loops\n",
    "\n",
    "cats = [\"Dexter\", \"Pharoah\", \"Oreo\", \"Mitas\", \"Enzo\", \"Warmonger\"]\n",
    "for cat in cats:\n",
    "    print(cat)\n",
    "        "
   ]
  },
  {
   "cell_type": "code",
   "execution_count": 9,
   "id": "b629cbb2-86df-421b-897f-32c19310243c",
   "metadata": {},
   "outputs": [
    {
     "ename": "IndentationError",
     "evalue": "expected an indented block (1431039257.py, line 2)",
     "output_type": "error",
     "traceback": [
      "\u001b[1;36m  Cell \u001b[1;32mIn[9], line 2\u001b[1;36m\u001b[0m\n\u001b[1;33m    for r in range(2,10,2):\u001b[0m\n\u001b[1;37m                            ^\u001b[0m\n\u001b[1;31mIndentationError\u001b[0m\u001b[1;31m:\u001b[0m expected an indented block\n"
     ]
    }
   ],
   "source": [
    "# TS BROKEN range (start, stop[,step]) #the brackets around step means its optional When running, it doesn't hit 10 because stop is not inclusive.r could be anythin\n",
    "for r in range(2,10,2): \n"
   ]
  },
  {
   "cell_type": "code",
   "execution_count": 11,
   "id": "d34ab86b-9062-47a1-a10a-4445fd270c62",
   "metadata": {},
   "outputs": [],
   "source": [
    "# functions\n",
    "#functions let us encapsulate cunks of code that we might want to use again\n",
    "def comparing(a,b):\n",
    "    if a == b:\n",
    "        print(\"The values are equal.\")\n",
    "    elif a>b:\n",
    "        print(\"A is greater.\")\n",
    "    else:\n",
    "        print(\"B is greater.\")\n",
    "\n"
   ]
  },
  {
   "cell_type": "code",
   "execution_count": 12,
   "id": "0e9cfd3b-b9a7-450d-9f65-204ed74e3a46",
   "metadata": {},
   "outputs": [
    {
     "name": "stdout",
     "output_type": "stream",
     "text": [
      "B is greater.\n"
     ]
    }
   ],
   "source": [
    "comparing(2,5)"
   ]
  },
  {
   "cell_type": "code",
   "execution_count": null,
   "id": "8a76b1a7-d881-44e5-8d03-bd0b4212e0c0",
   "metadata": {},
   "outputs": [],
   "source": []
  }
 ],
 "metadata": {
  "kernelspec": {
   "display_name": "Python 3 (ipykernel)",
   "language": "python",
   "name": "python3"
  },
  "language_info": {
   "codemirror_mode": {
    "name": "ipython",
    "version": 3
   },
   "file_extension": ".py",
   "mimetype": "text/x-python",
   "name": "python",
   "nbconvert_exporter": "python",
   "pygments_lexer": "ipython3",
   "version": "3.9.1"
  }
 },
 "nbformat": 4,
 "nbformat_minor": 5
}
