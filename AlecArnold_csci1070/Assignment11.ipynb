{
 "cells": [
  {
   "cell_type": "markdown",
   "metadata": {},
   "source": [
    "Make sure all your code is in functions. Read chapter 20 before completing the following.\n",
    "\n",
    "(5 pts) Preprocess the customer data https://www.kaggle.com/carrie1/ecommerce-dataLinks to an external site.  or https://www.kaggle.com/datasets/imakash3011/customer-personality-analysisLinks to an external site. . How are you handling nulls? What process(es) are you using to encode and normalize the data?\n",
    "(10 pts) Perform k-means on this dataset for customer segments. Customer segments help determine what types of people buy your product, which allows you to target more people like your usual customers. Should you look at all the data, or which subset of data should you use? What is the ideal number of clusters? Which approach did you use to find the ideal number of clusters and why?\n",
    "(7 pts) Perform hierarchical clustering for customer segments. What is the ideal number of clusters? Which approach did you use to find the ideal number of clusters and why?\n",
    "(3 pts) Compare the results of 2 and 3. Which approach do you think is best? Why?"
   ]
  }
 ],
 "metadata": {
  "language_info": {
   "name": "python"
  }
 },
 "nbformat": 4,
 "nbformat_minor": 2
}
