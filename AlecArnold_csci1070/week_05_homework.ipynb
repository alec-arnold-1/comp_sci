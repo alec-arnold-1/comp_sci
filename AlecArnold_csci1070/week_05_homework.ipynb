{
 "cells": [
  {
   "cell_type": "markdown",
   "metadata": {},
   "source": [
    "(5 pts) In 250-500 words, write a thorough explanation in markdown in your notebook of when to use ML and when not to. Do NOT go over the 500-word limit. It is essential to express this concisely. You may need to do additional research on this than what exists in the readings."
   ]
  },
  {
   "cell_type": "markdown",
   "metadata": {},
   "source": [
    "When to use Machine learning and when not to.. (250-500 words)"
   ]
  },
  {
   "cell_type": "markdown",
   "metadata": {},
   "source": [
    "There are many times when machine learning is to be used and when it is not to be used. Usually, machine learning should be used when it is not easy to code a simple solution. Machine learning is very useful for finding patterns in large amounts of data. For example, machine learning logistic regression can be utilized to predict if someone has a certain illness based on the other information that is provided. If you were to not use machine learning, it could be impossible to code a prediction of illness due to how intricately the data points interact with each other. Also, doing so could be very time consuming and difficult to sort through large amounts of data. Not all cases need machine learning at all, though. One such case would be if you don’t have a large enough amount of data. If you attempt to use a machine learning model with only a small amount of data, you will likely run into the problem of overfitting. The model could perform well using your small set of data, but would not perform well if it were to be applied outside of the data set. Another time machine learning should not be used if it is simply not necessary. For many projects, you can predict an outcome without needing to train a model on the data. For example, if you wanted to see which soccer team won a game and the amount of goals per team was in the data set, you could simply find that the winning team was the team that had more goals."
   ]
  },
  {
   "cell_type": "code",
   "execution_count": 7,
   "metadata": {},
   "outputs": [
    {
     "name": "stdout",
     "output_type": "stream",
     "text": [
      "<class 'pandas.core.frame.DataFrame'>\n",
      "RangeIndex: 891 entries, 0 to 890\n",
      "Data columns (total 8 columns):\n",
      " #   Column       Non-Null Count  Dtype  \n",
      "---  ------       --------------  -----  \n",
      " 0   PassengerId  891 non-null    int64  \n",
      " 1   Survived     891 non-null    int64  \n",
      " 2   Pclass       891 non-null    int64  \n",
      " 3   Sex          891 non-null    object \n",
      " 4   Age          891 non-null    float64\n",
      " 5   SibSp        891 non-null    int64  \n",
      " 6   Parch        891 non-null    int64  \n",
      " 7   Fare         891 non-null    float64\n",
      "dtypes: float64(2), int64(5), object(1)\n",
      "memory usage: 55.8+ KB\n"
     ]
    },
    {
     "data": {
      "text/html": [
       "<div>\n",
       "<style scoped>\n",
       "    .dataframe tbody tr th:only-of-type {\n",
       "        vertical-align: middle;\n",
       "    }\n",
       "\n",
       "    .dataframe tbody tr th {\n",
       "        vertical-align: top;\n",
       "    }\n",
       "\n",
       "    .dataframe thead th {\n",
       "        text-align: right;\n",
       "    }\n",
       "</style>\n",
       "<table border=\"1\" class=\"dataframe\">\n",
       "  <thead>\n",
       "    <tr style=\"text-align: right;\">\n",
       "      <th></th>\n",
       "      <th>PassengerId</th>\n",
       "      <th>Survived</th>\n",
       "      <th>Pclass</th>\n",
       "      <th>Sex</th>\n",
       "      <th>Age</th>\n",
       "      <th>SibSp</th>\n",
       "      <th>Parch</th>\n",
       "      <th>Fare</th>\n",
       "    </tr>\n",
       "  </thead>\n",
       "  <tbody>\n",
       "    <tr>\n",
       "      <th>0</th>\n",
       "      <td>1</td>\n",
       "      <td>0</td>\n",
       "      <td>3</td>\n",
       "      <td>0</td>\n",
       "      <td>22.0</td>\n",
       "      <td>1</td>\n",
       "      <td>0</td>\n",
       "      <td>7.2500</td>\n",
       "    </tr>\n",
       "    <tr>\n",
       "      <th>1</th>\n",
       "      <td>2</td>\n",
       "      <td>1</td>\n",
       "      <td>1</td>\n",
       "      <td>1</td>\n",
       "      <td>38.0</td>\n",
       "      <td>1</td>\n",
       "      <td>0</td>\n",
       "      <td>71.2833</td>\n",
       "    </tr>\n",
       "    <tr>\n",
       "      <th>2</th>\n",
       "      <td>3</td>\n",
       "      <td>1</td>\n",
       "      <td>3</td>\n",
       "      <td>1</td>\n",
       "      <td>26.0</td>\n",
       "      <td>0</td>\n",
       "      <td>0</td>\n",
       "      <td>7.9250</td>\n",
       "    </tr>\n",
       "    <tr>\n",
       "      <th>3</th>\n",
       "      <td>4</td>\n",
       "      <td>1</td>\n",
       "      <td>1</td>\n",
       "      <td>1</td>\n",
       "      <td>35.0</td>\n",
       "      <td>1</td>\n",
       "      <td>0</td>\n",
       "      <td>53.1000</td>\n",
       "    </tr>\n",
       "    <tr>\n",
       "      <th>4</th>\n",
       "      <td>5</td>\n",
       "      <td>0</td>\n",
       "      <td>3</td>\n",
       "      <td>0</td>\n",
       "      <td>35.0</td>\n",
       "      <td>0</td>\n",
       "      <td>0</td>\n",
       "      <td>8.0500</td>\n",
       "    </tr>\n",
       "    <tr>\n",
       "      <th>...</th>\n",
       "      <td>...</td>\n",
       "      <td>...</td>\n",
       "      <td>...</td>\n",
       "      <td>...</td>\n",
       "      <td>...</td>\n",
       "      <td>...</td>\n",
       "      <td>...</td>\n",
       "      <td>...</td>\n",
       "    </tr>\n",
       "    <tr>\n",
       "      <th>886</th>\n",
       "      <td>887</td>\n",
       "      <td>0</td>\n",
       "      <td>2</td>\n",
       "      <td>0</td>\n",
       "      <td>27.0</td>\n",
       "      <td>0</td>\n",
       "      <td>0</td>\n",
       "      <td>13.0000</td>\n",
       "    </tr>\n",
       "    <tr>\n",
       "      <th>887</th>\n",
       "      <td>888</td>\n",
       "      <td>1</td>\n",
       "      <td>1</td>\n",
       "      <td>1</td>\n",
       "      <td>19.0</td>\n",
       "      <td>0</td>\n",
       "      <td>0</td>\n",
       "      <td>30.0000</td>\n",
       "    </tr>\n",
       "    <tr>\n",
       "      <th>888</th>\n",
       "      <td>889</td>\n",
       "      <td>0</td>\n",
       "      <td>3</td>\n",
       "      <td>1</td>\n",
       "      <td>22.5</td>\n",
       "      <td>1</td>\n",
       "      <td>2</td>\n",
       "      <td>23.4500</td>\n",
       "    </tr>\n",
       "    <tr>\n",
       "      <th>889</th>\n",
       "      <td>890</td>\n",
       "      <td>1</td>\n",
       "      <td>1</td>\n",
       "      <td>0</td>\n",
       "      <td>26.0</td>\n",
       "      <td>0</td>\n",
       "      <td>0</td>\n",
       "      <td>30.0000</td>\n",
       "    </tr>\n",
       "    <tr>\n",
       "      <th>890</th>\n",
       "      <td>891</td>\n",
       "      <td>0</td>\n",
       "      <td>3</td>\n",
       "      <td>0</td>\n",
       "      <td>32.0</td>\n",
       "      <td>0</td>\n",
       "      <td>0</td>\n",
       "      <td>7.7500</td>\n",
       "    </tr>\n",
       "  </tbody>\n",
       "</table>\n",
       "<p>891 rows × 8 columns</p>\n",
       "</div>"
      ],
      "text/plain": [
       "     PassengerId  Survived  Pclass  Sex   Age  SibSp  Parch     Fare\n",
       "0              1         0       3    0  22.0      1      0   7.2500\n",
       "1              2         1       1    1  38.0      1      0  71.2833\n",
       "2              3         1       3    1  26.0      0      0   7.9250\n",
       "3              4         1       1    1  35.0      1      0  53.1000\n",
       "4              5         0       3    0  35.0      0      0   8.0500\n",
       "..           ...       ...     ...  ...   ...    ...    ...      ...\n",
       "886          887         0       2    0  27.0      0      0  13.0000\n",
       "887          888         1       1    1  19.0      0      0  30.0000\n",
       "888          889         0       3    1  22.5      1      2  23.4500\n",
       "889          890         1       1    0  26.0      0      0  30.0000\n",
       "890          891         0       3    0  32.0      0      0   7.7500\n",
       "\n",
       "[891 rows x 8 columns]"
      ]
     },
     "execution_count": 7,
     "metadata": {},
     "output_type": "execute_result"
    }
   ],
   "source": [
    "# Perform pre processing on the data set\n",
    "\n",
    "import pandas as pd\n",
    "import numpy as np\n",
    "import matplotlib.pyplot as plt\n",
    "import seaborn as sns\n",
    "from sklearn.model_selection import train_test_split\n",
    "\n",
    "def preprocessing():\n",
    "\n",
    "    titanic_df = pd.read_csv('titanic.csv')\n",
    "\n",
    "    #Drop columns that machine learning will not be using\n",
    "    columns = ['Ticket','Cabin','Name','Embarked']\n",
    "\n",
    "\n",
    "    titanic_df = titanic_df.drop(columns, axis=1)\n",
    "\n",
    "    # Interpolate values for the missing Age and Fare values\n",
    "\n",
    "    titanic_df['Age'] = titanic_df['Age'].interpolate()\n",
    "\n",
    "    titanic_df['Fare'] = titanic_df['Fare'].interpolate()\n",
    "\n",
    "    titanic_df.info()\n",
    "\n",
    "    # Drop rows that have missing values\n",
    "\n",
    "    titanic_df = titanic_df.dropna()\n",
    "\n",
    "    # Convert Sex to numerical values\n",
    "\n",
    "    sex_map = {'male':0,'female':1}\n",
    "    titanic_df['Sex'] = titanic_df['Sex'].map(sex_map)\n",
    "    titanic_df\n",
    "\n",
    "preprocessing()\n",
    "\n",
    "\n",
    "\n",
    "\n"
   ]
  },
  {
   "cell_type": "code",
   "execution_count": 8,
   "metadata": {},
   "outputs": [
    {
     "data": {
      "image/png": "[encoded data removed]",
      "text/plain": [
       "<Figure size 640x480 with 2 Axes>"
      ]
     },
     "metadata": {},
     "output_type": "display_data"
    }
   ],
   "source": [
    "# Create a correlation matrix with a heatmap for the features.\n",
    " # Use markdown to write about your takeaways in under 200 words. Perform feature selection from this. You should likely not be selecting more than 10 features. \n",
    "def titanic_heatmap():\n",
    "\n",
    "    sns.heatmap(titanic_df.corr())\n",
    "\n",
    "titanic_heatmap()"
   ]
  },
  {
   "cell_type": "code",
   "execution_count": null,
   "metadata": {},
   "outputs": [],
   "source": []
  },
  {
   "cell_type": "markdown",
   "metadata": {},
   "source": [
    "My takeaway from this correlation matrix is that the two sets of data with the strongest correlation are Sex and Survived. Another one of my takeaways is that correlation matrixes can be a helpful visualization to see which pieces of data correlate with eachother, especially if you are trying to find which values correlate with a specific outcome (Which data most explains whether or not the person survived or not, for example.)"
   ]
  },
  {
   "cell_type": "code",
   "execution_count": 9,
   "metadata": {},
   "outputs": [
    {
     "data": {
      "image/png": "[encoded data removed]",
      "text/plain": [
       "<Figure size 640x480 with 1 Axes>"
      ]
     },
     "metadata": {},
     "output_type": "display_data"
    }
   ],
   "source": [
    "#  Create a box and whisker plot for loan_amounts if using the Lending Club dataset and fare if using the Titanic dataset. \n",
    "# How do you handle the null values? What does this box and whisker plot show you?\n",
    "\n",
    "def fare_boxplot():\n",
    " \n",
    "    fare_df = titanic_df['Fare']\n",
    " \n",
    "\n",
    "\n",
    "    plt.boxplot(fare_df)\n",
    " \n",
    "    plt.show()\n",
    "fare_boxplot()\n",
    "\n",
    "# This box and whisker plot shows me the volume of certain pricing for the Titanic fare.\n",
    "\n",
    "# I handled the null values by interpolating them during pre processing."
   ]
  },
  {
   "cell_type": "code",
   "execution_count": 6,
   "metadata": {},
   "outputs": [
    {
     "name": "stdout",
     "output_type": "stream",
     "text": [
      "Defaulting to user installation because normal site-packages is not writeable\n",
      "Collecting realpython-reader\n",
      "  Downloading realpython_reader-1.1.2-py3-none-any.whl.metadata (5.3 kB)\n",
      "Collecting feedparser (from realpython-reader)\n",
      "  Downloading feedparser-6.0.11-py3-none-any.whl.metadata (2.4 kB)\n",
      "Collecting html2text (from realpython-reader)\n",
      "  Downloading html2text-2024.2.26.tar.gz (56 kB)\n",
      "     ---------------------------------------- 0.0/56.5 kB ? eta -:--:--\n",
      "     ---------------------------------------- 56.5/56.5 kB 1.5 MB/s eta 0:00:00\n",
      "  Installing build dependencies: started\n",
      "  Installing build dependencies: finished with status 'done'\n",
      "  Getting requirements to build wheel: started\n",
      "  Getting requirements to build wheel: finished with status 'done'\n",
      "  Preparing metadata (pyproject.toml): started\n",
      "  Preparing metadata (pyproject.toml): finished with status 'done'\n",
      "Requirement already satisfied: tomli in c:\\users\\aga20\\appdata\\roaming\\python\\python39\\site-packages (from realpython-reader) (2.0.1)\n",
      "Collecting sgmllib3k (from feedparser->realpython-reader)\n",
      "  Downloading sgmllib3k-1.0.0.tar.gz (5.8 kB)\n",
      "  Installing build dependencies: started\n",
      "  Installing build dependencies: finished with status 'done'\n",
      "  Getting requirements to build wheel: started\n",
      "  Getting requirements to build wheel: finished with status 'done'\n",
      "  Preparing metadata (pyproject.toml): started\n",
      "  Preparing metadata (pyproject.toml): finished with status 'done'\n",
      "Downloading realpython_reader-1.1.2-py3-none-any.whl (7.4 kB)\n",
      "Downloading feedparser-6.0.11-py3-none-any.whl (81 kB)\n",
      "   ---------------------------------------- 0.0/81.3 kB ? eta -:--:--\n",
      "   ------------------------------ --------- 61.4/81.3 kB 3.4 MB/s eta 0:00:01\n",
      "   ---------------------------------------- 81.3/81.3 kB 2.3 MB/s eta 0:00:00\n",
      "Building wheels for collected packages: html2text, sgmllib3k\n",
      "  Building wheel for html2text (pyproject.toml): started\n",
      "  Building wheel for html2text (pyproject.toml): finished with status 'done'\n",
      "  Created wheel for html2text: filename=html2text-2024.2.26-py3-none-any.whl size=33131 sha256=8e4b858e8eaa7d1da9068eae2028bcd8a14e5d024ac5fb23cda48c742b1e519d\n",
      "  Stored in directory: c:\\users\\aga20\\appdata\\local\\pip\\cache\\wheels\\4a\\af\\14\\e28d92a6cb558e73559e73d480b75629263d809dd0fc7363be\n",
      "  Building wheel for sgmllib3k (pyproject.toml): started\n",
      "  Building wheel for sgmllib3k (pyproject.toml): finished with status 'done'\n",
      "  Created wheel for sgmllib3k: filename=sgmllib3k-1.0.0-py3-none-any.whl size=6061 sha256=dec13674d01222f2bdafec5b6096cd33e00fe2989e9373dc7ca1f9dc58c8bb52\n",
      "  Stored in directory: c:\\users\\aga20\\appdata\\local\\pip\\cache\\wheels\\65\\7a\\a7\\78c287f64e401255dff4c13fdbc672fed5efbfd21c530114e1\n",
      "Successfully built html2text sgmllib3k\n",
      "Installing collected packages: sgmllib3k, html2text, feedparser, realpython-reader\n",
      "Successfully installed feedparser-6.0.11 html2text-2024.2.26 realpython-reader-1.1.2 sgmllib3k-1.0.0\n"
     ]
    },
    {
     "name": "stderr",
     "output_type": "stream",
     "text": [
      "\n",
      "[notice] A new release of pip is available: 23.3.2 -> 24.0\n",
      "[notice] To update, run: python.exe -m pip install --upgrade pip\n"
     ]
    }
   ],
   "source": [
    "! python -m pip install realpython-reader"
   ]
  },
  {
   "cell_type": "code",
   "execution_count": 10,
   "metadata": {},
   "outputs": [
    {
     "name": "stdout",
     "output_type": "stream",
     "text": [
      "The lambda code ran in 0.0019254999999986921 seconds\n",
      "The non lambda code ran in 0.0034094999999751963 seconds\n"
     ]
    }
   ],
   "source": [
    "# If using the Titanic dataset: create a new column called age_bin that groups people into at least 4 age ranges. \n",
    "#Either use two different lambdas or a lambda and a different technique and see which one is more performant. Explain your findings in markdown. \n",
    "#(use a timer to determine performance: check useful references below to see how timers work) \n",
    "import time\n",
    "\n",
    "def agebin_1():\n",
    "    time1 = time.perf_counter()\n",
    "    titanic_df['age_bin'] = titanic_df['Age'].apply(lambda x: 'Child' if x <= 12 else ('Teenager' if x<= 17 else ('Adult' if x <= 65 else 'Senior')))\n",
    "    time2 = time.perf_counter()\n",
    "    print(\"The lambda code ran in\",time2 - time1,'seconds')\n",
    "def agebin_2():\n",
    "    timeA = time.perf_counter()\n",
    "    ages = [0, 13, 18, 65, 200]\n",
    "    grouping = ['Child', 'Teenager', 'Adult','Senior']\n",
    "    titanic_df['age_bin'] = pd.cut(titanic_df['Age'], bins=ages, labels=grouping, right=False)\n",
    "    timeB = time.perf_counter()\n",
    "    print('The non lambda code ran in',timeB - timeA,'seconds')\n",
    "agebin_1()\n",
    "agebin_2()\n",
    "\n",
    "\n",
    "\n"
   ]
  },
  {
   "cell_type": "markdown",
   "metadata": {},
   "source": [
    "My finding is that the first code using the lambda was more performant. This is because it ran in ~0.001 seconds while the other method ran in ~0.004 seconds."
   ]
  },
  {
   "cell_type": "code",
   "execution_count": 11,
   "metadata": {},
   "outputs": [
    {
     "name": "stderr",
     "output_type": "stream",
     "text": [
      "C:\\Users\\aga20\\AppData\\Local\\Temp\\ipykernel_19252\\1638892816.py:23: FutureWarning: The default of observed=False is deprecated and will be changed to True in a future version of pandas. Pass observed=False to retain current behavior or observed=True to adopt the future default and silence this warning.\n",
      "  titanic_df.hist('Fare', by='age_bin')\n"
     ]
    },
    {
     "data": {
      "image/png": "[encoded data removed]",
      "text/plain": [
       "<Figure size 640x480 with 4 Axes>"
      ]
     },
     "metadata": {},
     "output_type": "display_data"
    }
   ],
   "source": [
    "\n",
    "#If using the Titanic dataset, create subplot histograms to show how fares differ by age_bin. \n",
    "#Summarize your findings in under 200 words.\n",
    "\n",
    "#plt.subplot(titanic_df['Fare','age_bin'])\n",
    "#df_columns = titanic_df.columns()\n",
    "# columns = titanic_df.columns( 'age_bin','Fare'])\n",
    "#columns1 = ['age_bin','Fare']\n",
    "# plt.hist(titanic_df)\n",
    "\n",
    "#new_df = titanic_df['Fare']['age_bin']\n",
    "\n",
    "# plt.subplot(new_df ,bin)\n",
    "\n",
    "#plt.hist(titanic_df, columns=columns1,bins=10)\n",
    "\n",
    "\n",
    "# figs, axs = plt.subplots(nrows=2)\n",
    "# titanic_df['Fare'].plot(ax=axs[0])\n",
    "# titanic_df['age_bin'].plot(ax=axs[0])\n",
    "\n",
    "def subplot():\n",
    "\n",
    "    titanic_df.hist('Fare', by='age_bin')\n",
    "\n",
    "subplot()\n",
    "\n",
    "# x = plt.hist(titanic_df['age_bin'])\n",
    "\n",
    "# y = plt.hist(titanic_df['Fare'])\n",
    "\n",
    "# figs, axs = plt.subplots(nrows=2)\n",
    "# y = plt.hist(titanic_df['age_bin'],bins = 3)\n",
    "# x = plt.hist(titanic_df['Fare'], bins = 3)\n",
    "# plt.plot(x,y)\n",
    "\n",
    "# age_bin = titanic_df['age_bin']\n",
    "\n",
    "# plt.hist(titanic_df[titanic_df['age_bin'] == age_bin]['Fare'], bins=10)\n",
    "\n",
    "# plt.xlabel(\"Fare\")\n",
    "# plt.ylabel(\"\")\n",
    "# plt.show()\n",
    "\n",
    "\n",
    "\n",
    "# x = titanic_df['age_bin']\n",
    "# y = titanic_df['Fare']\n",
    "\n",
    "# plt.subplot(x,y)\n",
    "\n",
    "# plt.show()\n"
   ]
  },
  {
   "cell_type": "markdown",
   "metadata": {},
   "source": [
    "My finding from these subplot histograms are that the Adults had the most extreme outliers in the data, which likely would make their average Fare price skewed. I also noticed that there were not any seniors who paid more than 80 for their fare, meanwhile the other age groups had some people paying much higher fares than that."
   ]
  },
  {
   "cell_type": "markdown",
   "metadata": {},
   "source": []
  }
 ],
 "metadata": {
  "kernelspec": {
   "display_name": "Python 3",
   "language": "python",
   "name": "python3"
  },
  "language_info": {
   "codemirror_mode": {
    "name": "ipython",
    "version": 3
   },
   "file_extension": ".py",
   "mimetype": "text/x-python",
   "name": "python",
   "nbconvert_exporter": "python",
   "pygments_lexer": "ipython3",
   "version": "3.9.1"
  }
 },
 "nbformat": 4,
 "nbformat_minor": 2
}
