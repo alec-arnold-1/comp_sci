{
 "cells": [
  {
   "cell_type": "markdown",
   "metadata": {},
   "source": [
    "(12 pts) Load the tokenized Paradise Lost from the Gutenberg Corpus in NLTK.* https://www.nltk.org/book/ch02.htmlLinks to an external site. \n",
    "Stem or lemmatize the words and find counts.\n",
    "Select the top 20 words and create a bar chart.\n",
    "Exclude stop words and make sure you are including words of all capitalizations in your count. If there are any meaningless “words” (“thus” and single letters, etc.) that are produced in your list of top words, alter your logic to exclude them.\n",
    "Specify why you chose stemming or lemmatization.\n",
    "(10 pts) Perform Vader Sentiment Analysis on the book.\n",
    "Find the 5 most negative, 5 most positive, and 5 most neutral sentences in Paradise Lost*. http://www.nltk.org/howto/sentiment.htmlLinks to an external site. . This may take a while to run, so you can always start with a small subset of the data (100 sentences) and then once your code works as expected, expand it to the whole book and let it run.\n",
    "(3 pts) Explain your findings from the previous question. Are the sentences and their sentiment analysis scores correct? Explain why or why not.\n",
    "*you can pick another book in the Gutenberg Corpus if you’re feeling adventurous or curious.\n",
    "\n",
    "Extra credit (3 pts): create a word cloud for your results from question 1 (see chapter 21 in your book for how to do this)\n",
    "\n"
   ]
  }
 ],
 "metadata": {
  "language_info": {
   "name": "python"
  }
 },
 "nbformat": 4,
 "nbformat_minor": 2
}
