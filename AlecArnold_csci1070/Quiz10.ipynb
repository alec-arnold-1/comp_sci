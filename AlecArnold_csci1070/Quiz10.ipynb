{
 "cells": [
  {
   "cell_type": "markdown",
   "metadata": {},
   "source": [
    "# Quiz 10"
   ]
  },
  {
   "cell_type": "code",
   "execution_count": 49,
   "metadata": {},
   "outputs": [],
   "source": [
    "import pandas as pd\n",
    "import matplotlib.pyplot as plt\n",
    "from sklearn.linear_model import LogisticRegression\n",
    "from sklearn.model_selection import train_test_split\n",
    "from sklearn.preprocessing import StandardScaler\n",
    "from imblearn.over_sampling import RandomOverSampler\n",
    "from sklearn import tree\n",
    "\n",
    "\n",
    "diabetes_df = pd.read_csv(\"diabetes.csv\")\n",
    "\n",
    "# Pre processing\n",
    "\n",
    "diabetes_df2 = diabetes_df.dropna()\n",
    "\n",
    "\n",
    "# Account for Multicollinearity\n",
    "diabetes_df2['Age_Pregnancies'] = diabetes_df2['Age'] + diabetes_df2['Pregnancies']\n",
    "\n",
    "\n",
    "diabetes_df4 = diabetes_df2.drop(['BloodPressure','SkinThickness','Pregnancies','Age'], axis=1)\n",
    "\n",
    "\n",
    "\n",
    "X = diabetes_df4.drop('Outcome', axis=1)\n",
    "y = diabetes_df4['Outcome']\n",
    "\n",
    "X_train, X_test, y_train, y_test = train_test_split(X, y,\n",
    "                                                    test_size=0.1, \n",
    "                                                    random_state=32,stratify=y)\n",
    "\n",
    "\n",
    "sc = StandardScaler()\n",
    "X_train_scaler = sc.fit_transform(X_train)\n",
    "X_test_scaler = sc.fit_transform(X_test)\n",
    "\n",
    "\n",
    "model = tree.DecisionTreeClassifier(random_state=32, min_impurity_decrease = .004\n",
    ")\n",
    "model.fit(X_train_scaler, y_train)\n",
    "y_pred = model.predict(X_test_scaler)\n",
    "\n",
    "\n",
    "from sklearn.manifold import SpectralEmbedding\n",
    "\n",
    "# Apply spectral embedding\n",
    "\n",
    "se = SpectralEmbedding(n_components=2, affinity='nearest_neighbors', n_neighbors=10, random_state=42)\n",
    "X_se = se.fit_transform(X_train)\n",
    "X_test_se = se.fit_transform(X_test)\n",
    "model.fit(X_se, y_train)\n",
    "y_pred = model.predict(X_test_se)"
   ]
  },
  {
   "cell_type": "code",
   "execution_count": 50,
   "metadata": {},
   "outputs": [
    {
     "data": {
      "text/plain": [
       "0.6233766233766234"
      ]
     },
     "execution_count": 50,
     "metadata": {},
     "output_type": "execute_result"
    }
   ],
   "source": [
    "model.score(X_test_se, y_test)"
   ]
  },
  {
   "cell_type": "code",
   "execution_count": 47,
   "metadata": {},
   "outputs": [],
   "source": [
    "import pandas as pd\n",
    "import matplotlib.pyplot as plt\n",
    "from sklearn.linear_model import LogisticRegression\n",
    "from sklearn.model_selection import train_test_split\n",
    "from sklearn.preprocessing import StandardScaler\n",
    "from imblearn.over_sampling import RandomOverSampler\n",
    "from sklearn import tree\n",
    "\n",
    "\n",
    "diabetes_df = pd.read_csv(\"diabetes.csv\")\n",
    "\n",
    "# Pre processing\n",
    "\n",
    "diabetes_df2 = diabetes_df.dropna()\n",
    "\n",
    "\n",
    "# Account for Multicollinearity\n",
    "diabetes_df2['Age_Pregnancies'] = diabetes_df2['Age'] + diabetes_df2['Pregnancies']\n",
    "\n",
    "\n",
    "diabetes_df4 = diabetes_df2.drop(['BloodPressure','SkinThickness','Pregnancies','Age'], axis=1)\n",
    "\n",
    "\n",
    "\n",
    "X = diabetes_df4.drop('Outcome', axis=1)\n",
    "y = diabetes_df4['Outcome']\n",
    "\n",
    "X_train, X_test, y_train, y_test = train_test_split(X, y,\n",
    "                                                    test_size=0.1, \n",
    "                                                    random_state=32,stratify=y)\n",
    "\n",
    "\n",
    "sc = StandardScaler()\n",
    "X_train_scaler = sc.fit_transform(X_train)\n",
    "X_test_scaler = sc.fit_transform(X_test)\n",
    "\n",
    "\n",
    "model = tree.DecisionTreeClassifier(random_state=32, min_impurity_decrease = .004\n",
    ")\n",
    "model.fit(X_train_scaler, y_train)\n",
    "y_pred = model.predict(X_test_scaler)"
   ]
  },
  {
   "cell_type": "code",
   "execution_count": 48,
   "metadata": {},
   "outputs": [
    {
     "name": "stderr",
     "output_type": "stream",
     "text": [
      "C:\\Users\\aga20\\AppData\\Roaming\\Python\\Python39\\site-packages\\sklearn\\base.py:486: UserWarning: X has feature names, but DecisionTreeClassifier was fitted without feature names\n",
      "  warnings.warn(\n"
     ]
    },
    {
     "data": {
      "text/plain": [
       "0.36363636363636365"
      ]
     },
     "execution_count": 48,
     "metadata": {},
     "output_type": "execute_result"
    }
   ],
   "source": [
    "model.score(X_test, y_test)"
   ]
  }
 ],
 "metadata": {
  "kernelspec": {
   "display_name": "Python 3",
   "language": "python",
   "name": "python3"
  },
  "language_info": {
   "codemirror_mode": {
    "name": "ipython",
    "version": 3
   },
   "file_extension": ".py",
   "mimetype": "text/x-python",
   "name": "python",
   "nbconvert_exporter": "python",
   "pygments_lexer": "ipython3",
   "version": "3.9.1"
  }
 },
 "nbformat": 4,
 "nbformat_minor": 2
}
