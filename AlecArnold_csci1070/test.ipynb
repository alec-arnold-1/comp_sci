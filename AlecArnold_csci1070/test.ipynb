{
 "cells": [
  {
   "cell_type": "code",
   "execution_count": 12,
   "metadata": {},
   "outputs": [],
   "source": [
    "import pandas as pd\n",
    "import matplotlib.pyplot as plt\n",
    "from sklearn.linear_model import LogisticRegression\n",
    "from sklearn.model_selection import train_test_split\n",
    "from sklearn.preprocessing import StandardScaler\n",
    "from imblearn.over_sampling import RandomOverSampler\n",
    "from sklearn import tree\n",
    "\n",
    "\n",
    "diabetes_df = pd.read_csv(\"diabetes.csv\")\n",
    "\n",
    "diabetes_df2 = diabetes_df.dropna()\n",
    "\n",
    "diabetes_df2['Age_Pregnancies'] = diabetes_df2['Age'] + diabetes_df2['Pregnancies']\n",
    "\n",
    "\n",
    "diabetes_df4 = diabetes_df2.drop(['BloodPressure','SkinThickness','Pregnancies','Age'], axis=1)\n",
    "\n",
    "\n",
    "\n",
    "X = diabetes_df4.drop('Outcome', axis=1)\n",
    "y = diabetes_df4['Outcome']\n",
    "\n",
    "X_train, X_test, y_train, y_test = train_test_split(X, y,\n",
    "                                                    test_size=0.3, \n",
    "                                                    random_state=32)\n",
    "\n",
    "ros = RandomOverSampler(random_state=32)\n",
    "X_resampled, y_resampled = ros.fit_resample(X_train, y_train)\n",
    "model = tree.DecisionTreeClassifier(random_state=32)\n",
    "model.fit(X_resampled, y_resampled)\n",
    "y_pred = model.predict(X_test)\n",
    "\n"
   ]
  },
  {
   "cell_type": "code",
   "execution_count": null,
   "metadata": {},
   "outputs": [],
   "source": []
  }
 ],
 "metadata": {
  "kernelspec": {
   "display_name": "Python 3",
   "language": "python",
   "name": "python3"
  },
  "language_info": {
   "codemirror_mode": {
    "name": "ipython",
    "version": 3
   },
   "file_extension": ".py",
   "mimetype": "text/x-python",
   "name": "python",
   "nbconvert_exporter": "python",
   "pygments_lexer": "ipython3",
   "version": "undefined.undefined.undefined"
  }
 },
 "nbformat": 4,
 "nbformat_minor": 2
}
