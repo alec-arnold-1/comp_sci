{
 "cells": [
  {
   "cell_type": "markdown",
   "metadata": {},
   "source": [
    "# Warmup\n",
    "\n",
    "Write a function that returns indices of the two numbers such that they add up to a specific target.\n",
    "\n",
    "Assume that each input would have exactly one solution, and you may not use the same element twice. \n",
    "\n",
    "Input: nums = \n",
    "\n",
    "\n",
    "output should "
   ]
  },
  {
   "cell_type": "code",
   "execution_count": null,
   "metadata": {},
   "outputs": [],
   "source": [
    "nums = [2, 7, 11, 15], target = 9\n",
    "\n",
    "for x in x:\n",
    "\n",
    "\n",
    "\n",
    "\n",
    "# Output: [0,1] (because nums[0] + nums[1] = 2 + 7 = 9)"
   ]
  },
  {
   "cell_type": "code",
   "execution_count": null,
   "metadata": {},
   "outputs": [],
   "source": [
    "def target_num_list_sum (LIST: list,TARGET: int) -> int:\n",
    "    'Function that finds the locations of ints so that the sum equals the target int\"\"\"'\n",
    "\n",
    "    int_positions = []\n",
    "\n",
    "    for x,y in enumerate(LIST):\n",
    "        for z in LIST:"
   ]
  },
  {
   "cell_type": "markdown",
   "metadata": {},
   "source": [
    "# Questions from reading\n",
    "\n",
    "\n",
    "What is tokenization? What are some issues that arise with it?\n",
    "\n",
    "\n",
    "Tokenization is the task of chopping up character sequences. Some issues that arise with it are that tokenization requires the language of the document to be known, \n",
    "\n",
    "What is hyphenation?\n",
    "using hyphens to eliminate whitespace so that a word like co-education can be one token."
   ]
  }
 ],
 "metadata": {
  "language_info": {
   "name": "python"
  }
 },
 "nbformat": 4,
 "nbformat_minor": 2
}
