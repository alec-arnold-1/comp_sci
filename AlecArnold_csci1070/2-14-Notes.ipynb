{
 "cells": [
  {
   "cell_type": "markdown",
   "metadata": {},
   "source": [
    "# Notes-2-24\n",
    "\n"
   ]
  },
  {
   "cell_type": "markdown",
   "metadata": {},
   "source": []
  },
  {
   "cell_type": "markdown",
   "metadata": {},
   "source": [
    "random vriables\n",
    "\n",
    "a random variable, x, is a variable where the possible outcomes are a function of a random phenomena.\n",
    "\n",
    "The probability for any event is between 0 and 1, inclusive\n",
    "the summation of the probabilities of each outcome equals 1\n",
    "\n",
    "We use a random seed to make sure our results are repeatable across different machines\n",
    "\n"
   ]
  },
  {
   "cell_type": "markdown",
   "metadata": {},
   "source": [
    "Discrete and Continuous data\n",
    "\n",
    "What is an sample of discrete: Population because it has a lot of little bars but isn't fractional\n",
    "\n",
    "What is an example of continuous: Temperature, speed of car, etc."
   ]
  },
  {
   "cell_type": "markdown",
   "metadata": {},
   "source": [
    "Uniform Distribution\n",
    "\n",
    "All outcomes have the same probability\n",
    "\n",
    "Binomail distribution\n",
    "\n",
    "symmetrical"
   ]
  },
  {
   "cell_type": "markdown",
   "metadata": {},
   "source": [
    "Expected Value\n",
    "\n",
    "Law of large numbers- as the sample size increases the sample means gets closer to the population mean\n",
    "\n",
    "Uniform distribution - for a random variable, expected value is (a+b)/2.\n",
    "where a is the maximum possible value and b is the minimum\n",
    "\n",
    "Binomial distribution - mean is the expected value which is equal to n trials * p probability\n",
    "\n",
    "Standard normal distribution - mean is the expected value\n",
    "\n"
   ]
  },
  {
   "cell_type": "markdown",
   "metadata": {},
   "source": [
    "5 min practice:\n",
    "\n",
    "The point of creating a random seed in probability is so that people on other machines can have the same result\n",
    "\n",
    "The expected value for number of heads in 50 trials of coins tosses is 25."
   ]
  },
  {
   "cell_type": "markdown",
   "metadata": {},
   "source": [
    "# Machine Learning\n",
    "\n",
    "Machine learning is the study of computer algorithms that improve automatically through experience and by the use of data. It is seen as a part of artificial intellgiencec. Machine learning algorithms build a model abased on sample data, known as \"training data\", in order to make predictions or decisions without beign explicitly programmed to do so.\n",
    "\n",
    "Machine learning algorithms use statistics to find patterns in massive amounts of data. And data here, encompasses a lot of things--numbers, words images clicks what have you. If it can be digitally stored, it can be fed into a machine laerning algorith\n",
    "\n",
    "Machine learning is the concept that a computer program can learn and adapt to new data without human intervention. Machine learning is a field of AI that keeps computers built in alogirthms current regardless of changes in the worldwideeconomy"
   ]
  },
  {
   "cell_type": "markdown",
   "metadata": {},
   "source": [
    "Preprocessing\n",
    "\n",
    "Cleaning up null values\n",
    "\n",
    "Data cleaning (dashes, odd characters, etc)\n",
    "Handle missing data\n",
    "Remove extreme outliers\n",
    "One hot encoding\n",
    "Convert categorical values to numerical\n",
    "standardization/normalization\n",
    "deal with multicollinearity (can be caused by 3)"
   ]
  },
  {
   "cell_type": "markdown",
   "metadata": {},
   "source": [
    "Feature engineering\n",
    "Definition: selecting variables that are the best predictors for what we're trying to predict\n",
    "\n",
    "Computation times are high if we have too many features, and too many features can lead to overfitting\n",
    "\n",
    "-------\n",
    "\n",
    "Cross validation\n",
    "\n",
    "Definition: testing performance of a machine laerning model\n",
    "How we do this:\n",
    "Train a model using a subset of the data\n",
    "Test model performance using a different subset\n",
    "With or without replacement"
   ]
  },
  {
   "cell_type": "markdown",
   "metadata": {},
   "source": []
  },
  {
   "cell_type": "code",
   "execution_count": null,
   "metadata": {},
   "outputs": [],
   "source": [
    "import pandas as pd\n",
    "df_clothes = pd.DataFrame(data = [['green','M',10,'shirt'],\n",
    "                                  ['red','M',60,'sweatshirt']\n",
    "                                  ['black','M','shoes']])\n",
    "\n",
    "df_clothes.head()"
   ]
  },
  {
   "cell_type": "code",
   "execution_count": null,
   "metadata": {},
   "outputs": [],
   "source": [
    "# can convert categorical values to numerical\n",
    "# size is ordinal, so it can be easily encoded\n",
    "size_map = {'S':1,'M':2,'L':3}\n",
    "df_clothes['size'] = df_clothes['size'].map(size_map)\n",
    "df_clothes"
   ]
  },
  {
   "cell_type": "code",
   "execution_count": null,
   "metadata": {},
   "outputs": [],
   "source": [
    "#nominal values\n",
    "# pip install scikit-learn\n",
    "from sklearn.preprocessing import LabelEncoder\n",
    "class_labels = LabelEncoder()\n",
    "df_clothes['types'] = class_labels.fit_transform(df_clothes['type'].values)"
   ]
  },
  {
   "cell_type": "code",
   "execution_count": null,
   "metadata": {},
   "outputs": [],
   "source": [
    "%pip install scikit-learn"
   ]
  },
  {
   "cell_type": "code",
   "execution_count": null,
   "metadata": {},
   "outputs": [],
   "source": [
    "# one hot encoding - easiest way\n",
    "# this wont work if you have data that is already numerical\n",
    "df_clothes = pd.get_dummies(df_clothes[['color','size','price']])\n",
    "df_clothes"
   ]
  }
 ],
 "metadata": {
  "kernelspec": {
   "display_name": "Python 3",
   "language": "python",
   "name": "python3"
  },
  "language_info": {
   "name": "python",
   "version": "3.9.1"
  }
 },
 "nbformat": 4,
 "nbformat_minor": 2
}
