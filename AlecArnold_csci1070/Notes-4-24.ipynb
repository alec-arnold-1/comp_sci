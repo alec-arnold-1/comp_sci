{
 "cells": [
  {
   "cell_type": "markdown",
   "metadata": {},
   "source": [
    "# Warmup\n",
    "\n",
    "What is a neural network? Describe how it works?\n",
    "\n",
    "backward/forward propagation: \n",
    "\n",
    "\n",
    "Process that mimics the human brain to understand patterns in data\n",
    "\n",
    "\n",
    "\n",
    "\n",
    "\n",
    "What is an activation function? What important role does it play in neural networks?"
   ]
  },
  {
   "cell_type": "markdown",
   "metadata": {},
   "source": [
    "A loss function is a function that calculates the model error for a neural network's optimization proccess. Used to min\n",
    "\n",
    "We need them because they are necessary for training neural network models.\n",
    "\n",
    "\n",
    "\n",
    "The types of loss functions are: cross entropy and mean squared error.\n",
    "\n",
    "The one that makes most sense for the diabetes dataset is cross entropy because it has a binary outcome."
   ]
  },
  {
   "cell_type": "markdown",
   "metadata": {},
   "source": []
  },
  {
   "cell_type": "code",
   "execution_count": null,
   "metadata": {},
   "outputs": [],
   "source": []
  }
 ],
 "metadata": {
  "kernelspec": {
   "display_name": "Python 3",
   "language": "python",
   "name": "python3"
  },
  "language_info": {
   "name": "python",
   "version": "3.9.1"
  }
 },
 "nbformat": 4,
 "nbformat_minor": 2
}
