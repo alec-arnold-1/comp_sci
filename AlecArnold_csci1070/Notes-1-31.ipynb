{
 "cells": [
  {
   "cell_type": "code",
   "execution_count": null,
   "id": "15956af1-2a86-428c-8bcf-f8dee89906ea",
   "metadata": {},
   "outputs": [],
   "source": [
    "# Warmup"
   ]
  },
  {
   "cell_type": "code",
   "execution_count": null,
   "id": "a165544b-7cd0-4a1a-b4df-37407f037aa6",
   "metadata": {},
   "outputs": [],
   "source": [
    "import pandas as pd \n",
    "csv_df - pd.read_csv('cars.csv')\n",
    "\n",
    "csv_df.head()"
   ]
  },
  {
   "cell_type": "markdown",
   "id": "caa46cd0-8c82-4dff-820b-3affc158e007",
   "metadata": {},
   "source": [
    "# NumPy Overview\n"
   ]
  },
  {
   "cell_type": "markdown",
   "id": "28ee9695-30ac-4a39-aad9-e97e2d3be44a",
   "metadata": {},
   "source": [
    "Arrays: Structured lists of numbers.\n",
    "\n",
    "Vectors, Matrices, Images, Tensors, ConvNets"
   ]
  },
  {
   "cell_type": "code",
   "execution_count": 2,
   "id": "94af3d98-91ba-482e-80d0-706aa8a2377a",
   "metadata": {},
   "outputs": [],
   "source": [
    "#import numpy as np\n",
    "#a = np.array([[1,2,3],[4,5,6,]],dtype=np.float32) # 2 dimensions\n",
    "#print(a.ndim, a.shape, a.dtype)"
   ]
  },
  {
   "cell_type": "code",
   "execution_count": 3,
   "id": "c63f0977-dc02-4dfc-8b07-5c814aa58e7b",
   "metadata": {},
   "outputs": [
    {
     "name": "stdout",
     "output_type": "stream",
     "text": [
      "2\n"
     ]
    }
   ],
   "source": [
    "#print(a.ndim)\n"
   ]
  },
  {
   "cell_type": "code",
   "execution_count": null,
   "id": "480745f3-1a49-4905-87ba-13c1c3c1a39f",
   "metadata": {},
   "outputs": [],
   "source": [
    "#print(a.shape)\n",
    "(2,3)"
   ]
  },
  {
   "cell_type": "markdown",
   "id": "b1ece8ee-53be-4025-9b58-067978c53514",
   "metadata": {},
   "source": [
    "Arrays can have any number of dimensions including zero\n",
    "Arrays are typed: np.uint8, np.int64, np.float32, np.float64\n",
    "Arrays are dense. Each element of the array exists and has the same type.\n",
    "Arrays are faster than python lists (consume less memory)\n",
    "Can only combine arrays of the same shape"
   ]
  },
  {
   "cell_type": "markdown",
   "id": "8e9bfc1e-3ac9-4774-a437-24a03d24e360",
   "metadata": {},
   "source": [
    "# Array Exercise\n",
    "\n",
    "Create an array with 3 dimensions. Confirm it has 3 dimensions.\n",
    "Create an array with 6 dimensions (dont do it manually, use appropriate kwarg)\n",
    "What does this do: np.ones((3,2))?"
   ]
  },
  {
   "cell_type": "code",
   "execution_count": 13,
   "id": "154276dc-7818-49f9-966e-ec95ca46e8a4",
   "metadata": {},
   "outputs": [],
   "source": [
    "import numpy as np\n",
    "a = np.array([[[0,1,2],[3,4,5],[6,7,8]]],dtype=np.float32)"
   ]
  },
  {
   "cell_type": "code",
   "execution_count": 14,
   "id": "c9632f06-80f9-4358-8ff9-fb781790bad8",
   "metadata": {},
   "outputs": [
    {
     "name": "stdout",
     "output_type": "stream",
     "text": [
      "3\n"
     ]
    }
   ],
   "source": [
    "print(a.ndim)"
   ]
  },
  {
   "cell_type": "code",
   "execution_count": 12,
   "id": "192851aa-e60f-40cf-a82e-ecd5bed0da56",
   "metadata": {},
   "outputs": [
    {
     "data": {
      "text/plain": [
       "array([[1., 1.],\n",
       "       [1., 1.],\n",
       "       [1., 1.]])"
      ]
     },
     "execution_count": 12,
     "metadata": {},
     "output_type": "execute_result"
    }
   ],
   "source": [
    "np.ones((3,2)) # This does "
   ]
  },
  {
   "cell_type": "code",
   "execution_count": 21,
   "id": "45eabf12-7655-460d-9d7d-8368f56bf470",
   "metadata": {},
   "outputs": [
    {
     "data": {
      "text/plain": [
       "array([1, 2, 3, 4, 5, 6])"
      ]
     },
     "execution_count": 21,
     "metadata": {},
     "output_type": "execute_result"
    }
   ],
   "source": [
    "c = np.array([1,2,3,4,5,6]) \n",
    "\n",
    "#c = c.reshape(3,2) # splits into 3 columns and 2 rows\n",
    "\n",
    "#c = c.reshape(2,-1) # splits into 2 rows and then swapping the columns and rows\n",
    "\n",
    "c = c.ravel() # flattens it out \n",
    "c\n",
    "\n",
    "\n"
   ]
  },
  {
   "cell_type": "markdown",
   "id": "244ded1b-e0f8-4945-8fd7-bc2913fe1360",
   "metadata": {},
   "source": [
    "# Transposition\n"
   ]
  },
  {
   "cell_type": "code",
   "execution_count": 23,
   "id": "362ac12e-e58e-4cf0-b957-cbdb5f7640ae",
   "metadata": {},
   "outputs": [
    {
     "data": {
      "text/plain": [
       "array([[[0., 1., 2.],\n",
       "        [3., 4., 5.],\n",
       "        [6., 7., 8.]]], dtype=float32)"
      ]
     },
     "execution_count": 23,
     "metadata": {},
     "output_type": "execute_result"
    }
   ],
   "source": [
    "a = np.arrange(10).reshape(5,2) # Gives us a range of all values from 0-10, not inclusive so really 0-9\n",
    "a = a.T # Everything that was in first column is now in first row\n",
    "a = a.tranaspose((1,0))"
   ]
  },
  {
   "cell_type": "markdown",
   "id": "5d325294-7835-479d-a739-4d80c1fd35f2",
   "metadata": {},
   "source": [
    "# Math, universal functions\n"
   ]
  },
  {
   "cell_type": "code",
   "execution_count": 25,
   "id": "68c97d2a-5b81-42bf-9b33-32f47205a616",
   "metadata": {},
   "outputs": [
    {
     "data": {
      "text/plain": [
       "array([[[0., 1., 2.],\n",
       "        [3., 4., 5.],\n",
       "        [6., 7., 8.]]], dtype=float32)"
      ]
     },
     "execution_count": 25,
     "metadata": {},
     "output_type": "execute_result"
    }
   ],
   "source": [
    "np.exp(a)\n",
    "np.sqrt(a)\n",
    "np.sin(a)\n",
    "np.cos(a)\n",
    "np.isnan(a)"
   ]
  },
  {
   "cell_type": "markdown",
   "id": "9cdcc321-b6cb-44c8-bb90-13379c8d42a9",
   "metadata": {},
   "source": [
    "# Indexing\n"
   ]
  },
  {
   "cell_type": "code",
   "execution_count": null,
   "id": "688c4875-d08a-4d4a-a007-2be182ff4fef",
   "metadata": {},
   "outputs": [],
   "source": [
    "a[0,0] #top-left element\n",
    "\n",
    "a[0,-1] #first row, last column\n",
    "\n",
    "a[0,:] #IDK\n",
    "\n",
    "a[:,0]"
   ]
  },
  {
   "cell_type": "markdown",
   "id": "205046e6-1fe9-4dc7-bec1-9af1ad317704",
   "metadata": {},
   "source": [
    "# Pandas\n",
    "\n",
    "Python module used for data analysis and exploration\n",
    "\n",
    "Two main useful data structures: Series and DataFrames\n",
    "\n",
    "Can import data files and turn them into DataFrames\n",
    "CSV(comms-separated values)\n",
    "\n",
    "If you get stuck look at the documentation! it is pretty good.\n",
    "\n",
    "Can handle medium sized data(not very good for truly big data)"
   ]
  },
  {
   "cell_type": "code",
   "execution_count": null,
   "id": "495b2d84-3607-4d33-90a4-cb9c3c3bd0cd",
   "metadata": {},
   "outputs": [],
   "source": []
  }
 ],
 "metadata": {
  "kernelspec": {
   "display_name": "Python 3 (ipykernel)",
   "language": "python",
   "name": "python3"
  },
  "language_info": {
   "codemirror_mode": {
    "name": "ipython",
    "version": 3
   },
   "file_extension": ".py",
   "mimetype": "text/x-python",
   "name": "python",
   "nbconvert_exporter": "python",
   "pygments_lexer": "ipython3",
   "version": "3.9.1"
  }
 },
 "nbformat": 4,
 "nbformat_minor": 5
}
