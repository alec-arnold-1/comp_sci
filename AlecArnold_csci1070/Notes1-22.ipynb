{
 "cells": [
  {
   "cell_type": "markdown",
   "id": "6921f437-1437-426b-ab67-5113f6d42e07",
   "metadata": {},
   "source": [
    "# Data Types\n",
    "anytime you want to open a notebook, you first open gitbash and you run \"jupyter notebook\"\n"
   ]
  },
  {
   "cell_type": "code",
   "execution_count": null,
   "id": "dc222ca6-73cf-45f6-8f69-72bddfb97fb1",
   "metadata": {},
   "outputs": [],
   "source": [
    "#to run cells, you can press shift-enter on windows.\n",
    "#to get hints on a function, put your cursor in the function and press shift tab\n",
    "\n",
    "x = 5 # integer\n",
    "y = 5.0 #float/floating point\n",
    "\n"
   ]
  },
  {
   "cell_type": "code",
   "execution_count": 2,
   "id": "8ce80052-125e-4575-b62f-0f2fc24f9327",
   "metadata": {},
   "outputs": [
    {
     "ename": "NameError",
     "evalue": "name 'x' is not defined",
     "output_type": "error",
     "traceback": [
      "\u001b[1;31m---------------------------------------------------------------------------\u001b[0m",
      "\u001b[1;31mNameError\u001b[0m                                 Traceback (most recent call last)",
      "Cell \u001b[1;32mIn[2], line 1\u001b[0m\n\u001b[1;32m----> 1\u001b[0m \u001b[38;5;28mprint\u001b[39m(\u001b[43mx\u001b[49m)\n",
      "\u001b[1;31mNameError\u001b[0m: name 'x' is not defined"
     ]
    }
   ],
   "source": [
    "print(x)"
   ]
  },
  {
   "cell_type": "code",
   "execution_count": null,
   "id": "b1e9459b-7798-4caf-a444-9e76ba0e1c6b",
   "metadata": {},
   "outputs": [],
   "source": [
    "print(type(x))\n",
    "<class 'int'>"
   ]
  },
  {
   "cell_type": "code",
   "execution_count": 4,
   "id": "493e4563-87df-445e-bf89-f2aa0a9baccc",
   "metadata": {},
   "outputs": [
    {
     "ename": "NameError",
     "evalue": "name 'y' is not defined",
     "output_type": "error",
     "traceback": [
      "\u001b[1;31m---------------------------------------------------------------------------\u001b[0m",
      "\u001b[1;31mNameError\u001b[0m                                 Traceback (most recent call last)",
      "Cell \u001b[1;32mIn[4], line 1\u001b[0m\n\u001b[1;32m----> 1\u001b[0m \u001b[38;5;28mtype\u001b[39m(\u001b[43my\u001b[49m)\n",
      "\u001b[1;31mNameError\u001b[0m: name 'y' is not defined"
     ]
    }
   ],
   "source": [
    "type(y)"
   ]
  },
  {
   "cell_type": "code",
   "execution_count": 7,
   "id": "e4bd139d-1337-4f9b-8fe3-28c7cdcb9a4d",
   "metadata": {},
   "outputs": [],
   "source": [
    "# Dictionaries are key:value pairs\n",
    "breakfast = {\"waffles\":40, \"eggs\":60, \"cereal\":1}"
   ]
  },
  {
   "cell_type": "code",
   "execution_count": 9,
   "id": "2fc1d8ed-f092-4b82-93d3-1567d363c470",
   "metadata": {},
   "outputs": [
    {
     "name": "stdout",
     "output_type": "stream",
     "text": [
      "60\n"
     ]
    }
   ],
   "source": [
    "print(breakfast[\"eggs\"])"
   ]
  },
  {
   "cell_type": "code",
   "execution_count": 10,
   "id": "93ab5884-5bde-4bdc-a5b5-062b7393a89b",
   "metadata": {},
   "outputs": [
    {
     "data": {
      "text/plain": [
       "bool"
      ]
     },
     "execution_count": 10,
     "metadata": {},
     "output_type": "execute_result"
    }
   ],
   "source": [
    "#Booleans are true or false values\n",
    "is_true = False\n",
    "type(is_true)"
   ]
  },
  {
   "cell_type": "code",
   "execution_count": 13,
   "id": "bfa7f56c-325a-4fa8-b2e4-9483dbbf2791",
   "metadata": {},
   "outputs": [
    {
     "name": "stdout",
     "output_type": "stream",
     "text": [
      "{'coffee', 'eggs', 'bacon'}\n"
     ]
    }
   ],
   "source": [
    "# Sets have unordered values and unchangeable values (immutable)\n",
    "breakfast_set = {\"eggs\",\"bacon\"}\n",
    "# Sets cannot have duplicates, so you cannot add something thats already there\n",
    "breakfast_set.add(\"coffee\")\n",
    "print(breakfast_set)"
   ]
  },
  {
   "cell_type": "code",
   "execution_count": 18,
   "id": "387fe5ea-c652-473e-b93b-de84a8f0866c",
   "metadata": {},
   "outputs": [
    {
     "data": {
      "text/plain": [
       "'January'"
      ]
     },
     "execution_count": 18,
     "metadata": {},
     "output_type": "execute_result"
    }
   ],
   "source": [
    "# List values can be canged and they are ordered\n",
    "months = [\"January\", \"February\", \"March\"]\n",
    "months[0]"
   ]
  },
  {
   "cell_type": "code",
   "execution_count": 19,
   "id": "b9cc9c20-7ad5-4547-9cc5-35ba51feea73",
   "metadata": {},
   "outputs": [
    {
     "data": {
      "text/plain": [
       "'coffee'"
      ]
     },
     "execution_count": 19,
     "metadata": {},
     "output_type": "execute_result"
    }
   ],
   "source": [
    "# Tuples are ordered but unchangeable (immutable)\n",
    "breakfast_tuple = (\"coffee\", \"bagels\", \"cereal\")\n",
    "breakfast_tuple[0]\n",
    "\n"
   ]
  },
  {
   "cell_type": "code",
   "execution_count": 20,
   "id": "c9227189-9d04-4227-a8dc-3058a9e87325",
   "metadata": {},
   "outputs": [
    {
     "name": "stdout",
     "output_type": "stream",
     "text": [
      "3\n"
     ]
    }
   ],
   "source": [
    "print(len(breakfast_tuple)) #length is 3 because there are 3 items, but we still start counting at 0\n"
   ]
  },
  {
   "cell_type": "code",
   "execution_count": 33,
   "id": "e98d4a85-03dd-4c11-be64-ef2369ebd9d4",
   "metadata": {},
   "outputs": [
    {
     "name": "stdout",
     "output_type": "stream",
     "text": [
      "('a', 'c', 'e')\n"
     ]
    }
   ],
   "source": [
    "# slicing slice(start, end, step)\n",
    "\n",
    "letters_tuple = (\"a\", \"b\", \"c\", \"d\", \"e\")\n",
    "x = slice(0,5,2)\n",
    "print(letters_tuple[x])\n"
   ]
  },
  {
   "cell_type": "code",
   "execution_count": null,
   "id": "66dcffb4-f1e8-4f3f-b137-3fd944f58153",
   "metadata": {},
   "outputs": [],
   "source": []
  },
  {
   "cell_type": "code",
   "execution_count": null,
   "id": "4b791c01-734f-4ab0-af05-5385d732c926",
   "metadata": {},
   "outputs": [],
   "source": []
  },
  {
   "cell_type": "code",
   "execution_count": null,
   "id": "64806a28-a714-4bd6-96b7-f4ff5c316643",
   "metadata": {},
   "outputs": [],
   "source": []
  }
 ],
 "metadata": {
  "kernelspec": {
   "display_name": "Python 3 (ipykernel)",
   "language": "python",
   "name": "python3"
  },
  "language_info": {
   "codemirror_mode": {
    "name": "ipython",
    "version": 3
   },
   "file_extension": ".py",
   "mimetype": "text/x-python",
   "name": "python",
   "nbconvert_exporter": "python",
   "pygments_lexer": "ipython3",
   "version": "3.9.1"
  }
 },
 "nbformat": 4,
 "nbformat_minor": 5
}
