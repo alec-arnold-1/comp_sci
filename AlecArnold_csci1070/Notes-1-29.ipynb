{
 "cells": [
  {
   "cell_type": "markdown",
   "id": "c88443db-a176-438a-a183-c03d0621662c",
   "metadata": {},
   "source": [
    "# Class 1/29\n"
   ]
  },
  {
   "cell_type": "markdown",
   "id": "67c11de2-4537-427e-a6e7-b2c6a2062b89",
   "metadata": {},
   "source": [
    "Notes\n"
   ]
  },
  {
   "cell_type": "markdown",
   "id": "be6dd616-380e-483e-8252-1561eeb9f3c9",
   "metadata": {},
   "source": [
    "# Constructors\n",
    "__init__ (__ is dunder)\n",
    "SELF is a default variable that contains the memory address of the current code that you're working in."
   ]
  },
  {
   "cell_type": "code",
   "execution_count": 1,
   "id": "e45aab8f-cba1-422b-b731-7776f31a687c",
   "metadata": {},
   "outputs": [
    {
     "name": "stdout",
     "output_type": "stream",
     "text": [
      "0\n"
     ]
    }
   ],
   "source": [
    "class a_sample_class:\n",
    "\n",
    "    #default/basic constructor\n",
    "    def __init__(self):\n",
    "        self.var = 0\n",
    "\n",
    "    #an instance method for printing\n",
    "    def print_vars(self):\n",
    "        print(self.var)\n",
    "\n",
    "#create isntance of class\n",
    "obj = a_sample_class()\n",
    "\n",
    "#call instance method to get value for var\n",
    "obj.print_vars()"
   ]
  },
  {
   "cell_type": "code",
   "execution_count": 3,
   "id": "3bcd2d8f-0ee5-4428-9678-623cec5678d8",
   "metadata": {},
   "outputs": [
    {
     "name": "stdout",
     "output_type": "stream",
     "text": [
      "2\n"
     ]
    }
   ],
   "source": [
    "class a_sample_class:\n",
    "\n",
    "    #parameterized constructor\n",
    "    def __init__(self, one, two):\n",
    "        self.first = one\n",
    "\n",
    "    #an instance method for printing\n",
    "    def print_vars(self):\n",
    "        print(self.first)\n",
    "obj = a_sample_class(2,8)\n",
    "obj.print_vars()\n"
   ]
  },
  {
   "cell_type": "code",
   "execution_count": 8,
   "id": "ae6ca189-d00d-4f3e-8a3b-8ac883e9781a",
   "metadata": {},
   "outputs": [
    {
     "name": "stdout",
     "output_type": "stream",
     "text": [
      "17\n",
      "5\n"
     ]
    },
    {
     "ename": "AttributeError",
     "evalue": "type object 'a_sample_class' has no attribute 'first'",
     "output_type": "error",
     "traceback": [
      "\u001b[1;31m---------------------------------------------------------------------------\u001b[0m",
      "\u001b[1;31mAttributeError\u001b[0m                            Traceback (most recent call last)",
      "Cell \u001b[1;32mIn[8], line 19\u001b[0m\n\u001b[0;32m     16\u001b[0m \u001b[38;5;28mprint\u001b[39m(obj\u001b[38;5;241m.\u001b[39mclass_attr)\n\u001b[0;32m     18\u001b[0m \u001b[38;5;66;03m#instance attribute as property of class\u001b[39;00m\n\u001b[1;32m---> 19\u001b[0m \u001b[38;5;28mprint\u001b[39m(\u001b[43ma_sample_class\u001b[49m\u001b[38;5;241;43m.\u001b[39;49m\u001b[43mfirst\u001b[49m) \u001b[38;5;66;03m#AttributeError because class has no instance\u001b[39;00m\n\u001b[0;32m     21\u001b[0m \u001b[38;5;66;03m#class attribute as property of class\u001b[39;00m\n\u001b[0;32m     22\u001b[0m \u001b[38;5;28mprint\u001b[39m(a_sample_class\u001b[38;5;241m.\u001b[39mclass_attr)\n",
      "\u001b[1;31mAttributeError\u001b[0m: type object 'a_sample_class' has no attribute 'first'"
     ]
    }
   ],
   "source": [
    "class a_sample_class:\n",
    "    class_attr = 5\n",
    "\n",
    "    def __init__(self, one, two):\n",
    "    #instance attribute\n",
    "        self.first = one\n",
    "        self.second = two\n",
    "\n",
    "#object is istance of class\n",
    "obj = a_sample_class(17,42)\n",
    "\n",
    "#instance attrivute as property of object\n",
    "print(obj.first)\n",
    "\n",
    "#class attribute as property of object\n",
    "print(obj.class_attr)\n",
    "\n",
    "#instance attribute as property of class\n",
    "print(a_sample_class.first) #AttributeError because class has no instance\n",
    "\n",
    "#class attribute as property of class\n",
    "print(a_sample_class.class_attr)\n"
   ]
  },
  {
   "cell_type": "markdown",
   "id": "b1036b01-f6bd-4142-bcab-08d471e369c5",
   "metadata": {},
   "source": [
    "# Instance Attributes and Class Attributes\n",
    "2 scopes for attributes\n",
    "\n",
    "instance attribute = variable that belongs to a specific instance or instantiation. Defined inside the constructor (init). Can access from the scope of an object (local)\n",
    "\n",
    "Class attribute = type of variable that belongs to the class itself.\n",
    "Defined outside the constructor. Similar to static attributes in Java.\n",
    "Both a property of a class ANd a property of the object. We can mutate a class attribute to be an instance attribute."
   ]
  },
  {
   "cell_type": "code",
   "execution_count": 9,
   "id": "de6c5270-daef-416e-a857-2d2b314e9d01",
   "metadata": {},
   "outputs": [
    {
     "name": "stdout",
     "output_type": "stream",
     "text": [
      "Help on a_sample_class in module __main__ object:\n",
      "\n",
      "class a_sample_class(builtins.object)\n",
      " |  a_sample_class(one, two)\n",
      " |  \n",
      " |  Methods defined here:\n",
      " |  \n",
      " |  __init__(self, one, two)\n",
      " |      Initialize self.  See help(type(self)) for accurate signature.\n",
      " |  \n",
      " |  ----------------------------------------------------------------------\n",
      " |  Data descriptors defined here:\n",
      " |  \n",
      " |  __dict__\n",
      " |      dictionary for instance variables (if defined)\n",
      " |  \n",
      " |  __weakref__\n",
      " |      list of weak references to the object (if defined)\n",
      " |  \n",
      " |  ----------------------------------------------------------------------\n",
      " |  Data and other attributes defined here:\n",
      " |  \n",
      " |  class_attr = 5\n",
      "\n"
     ]
    }
   ],
   "source": [
    "help(obj)\n"
   ]
  },
  {
   "cell_type": "code",
   "execution_count": null,
   "id": "b56d0542-ce2c-4c70-94e1-2e5ef78a9d63",
   "metadata": {},
   "outputs": [],
   "source": []
  },
  {
   "cell_type": "code",
   "execution_count": null,
   "id": "8c28cd35-b79f-4f99-a1d3-333aaa2efe1a",
   "metadata": {},
   "outputs": [],
   "source": [
    "# dir stands for directory"
   ]
  },
  {
   "cell_type": "code",
   "execution_count": 11,
   "id": "9437fb94-7313-4a2b-8596-73db3201dfb9",
   "metadata": {},
   "outputs": [
    {
     "data": {
      "text/plain": [
       "{'__name__': '__main__',\n",
       " '__doc__': 'Automatically created module for IPython interactive environment',\n",
       " '__package__': None,\n",
       " '__loader__': None,\n",
       " '__spec__': None,\n",
       " '__builtin__': <module 'builtins' (built-in)>,\n",
       " '__builtins__': <module 'builtins' (built-in)>,\n",
       " '_ih': ['',\n",
       "  'class a_sample_class:\\n\\n    #default/basic constructor\\n    def __init__(self):\\n        self.var = 0\\n\\n    #an instance method for printing\\n    def print_vars(self):\\n        print(self.var)\\n\\n#create isntance of class\\nobj = a_sample_class()\\n\\n#call instance method to get value for var\\nobj.print_vars()',\n",
       "  'class a_sample_class:\\n\\n    #parameterized constructor\\n    def __init__(self, one, two):\\n        self.first = one\\n\\n    #an instance method for printing\\n    def print_vars(self):\\n        print(self.first)\\nobj = a_simple_class(2,8)\\nobj.print_vars()',\n",
       "  'class a_sample_class:\\n\\n    #parameterized constructor\\n    def __init__(self, one, two):\\n        self.first = one\\n\\n    #an instance method for printing\\n    def print_vars(self):\\n        print(self.first)\\nobj = a_sample_class(2,8)\\nobj.print_vars()',\n",
       "  'class a_sample_class:\\n    class_attr = 5\\n\\n    def__init__(self, one, two):\\n    #instance attribute\\n    self.first = one\\n    self.second = two\\n\\n#object is istance of class\\nobj = a_sample_class(17,42)\\n\\n#instance attrivute as property of object\\nprint(obj.first)\\n\\n#class attribute as property of object\\nprint(obj.class_attr)\\n\\n#instance attribute as property of class\\nprint(a_sample_class.first)\\n\\n#class attribute as property of class\\nprint(a_sample_class.class_attr)',\n",
       "  'class a_sample_class:\\n    class_attr = 5\\n\\n    def __init__(self, one, two):\\n    #instance attribute\\n    self.first = one\\n    self.second = two\\n\\n#object is istance of class\\nobj = a_sample_class(17,42)\\n\\n#instance attrivute as property of object\\nprint(obj.first)\\n\\n#class attribute as property of object\\nprint(obj.class_attr)\\n\\n#instance attribute as property of class\\nprint(a_sample_class.first)\\n\\n#class attribute as property of class\\nprint(a_sample_class.class_attr)',\n",
       "  'class a_sample_class:\\n    class_attr = 5\\n\\n    def __init__(self, one, two):\\n    #instance attribute\\n        self.first = one\\n        self.second = two\\n\\n#object is istance of class\\nobj = a_sample_class(17,42)\\n\\n#instance attrivute as property of object\\nprint(obj.first)\\n\\n#class attribute as property of object\\nprint(obj.class_attr)\\n\\n#instance attribute as property of class\\nprint(a_sample_class.first)\\n\\n#class attribute as property of class\\nprint(a_sample_class.class_attr)',\n",
       "  'class a_sample_class:\\n    class_attr = 5\\n\\n    def __init__(self, one, two):\\n    #instance attribute\\n        self.first = one\\n        self.second = two\\n\\n#object is istance of class\\nobj = a_sample_class(17,42)\\n\\n#instance attrivute as property of object\\nprint(obj.first)\\n\\n#class attribute as property of object\\nprint(obj.class_attr)\\n\\n#instance attribute as property of class\\n#print(a_sample_class.first) #AttributeError because class has no instance\\n\\n#class attribute as property of class\\nprint(a_sample_class.class_attr)',\n",
       "  'class a_sample_class:\\n    class_attr = 5\\n\\n    def __init__(self, one, two):\\n    #instance attribute\\n        self.first = one\\n        self.second = two\\n\\n#object is istance of class\\nobj = a_sample_class(17,42)\\n\\n#instance attrivute as property of object\\nprint(obj.first)\\n\\n#class attribute as property of object\\nprint(obj.class_attr)\\n\\n#instance attribute as property of class\\nprint(a_sample_class.first) #AttributeError because class has no instance\\n\\n#class attribute as property of class\\nprint(a_sample_class.class_attr)',\n",
       "  'help(obj)',\n",
       "  'globals()',\n",
       "  '# returns the current module namespace\\n# namespace = mapping between objects and current names. These are defined names and they also include information about the objects that each name\\nglobals()'],\n",
       " '_oh': {10: {...}},\n",
       " '_dh': [WindowsPath('C:/Users/aga20/comp_sci2/comp_sci/AlecArnold_csci1070')],\n",
       " 'In': ['',\n",
       "  'class a_sample_class:\\n\\n    #default/basic constructor\\n    def __init__(self):\\n        self.var = 0\\n\\n    #an instance method for printing\\n    def print_vars(self):\\n        print(self.var)\\n\\n#create isntance of class\\nobj = a_sample_class()\\n\\n#call instance method to get value for var\\nobj.print_vars()',\n",
       "  'class a_sample_class:\\n\\n    #parameterized constructor\\n    def __init__(self, one, two):\\n        self.first = one\\n\\n    #an instance method for printing\\n    def print_vars(self):\\n        print(self.first)\\nobj = a_simple_class(2,8)\\nobj.print_vars()',\n",
       "  'class a_sample_class:\\n\\n    #parameterized constructor\\n    def __init__(self, one, two):\\n        self.first = one\\n\\n    #an instance method for printing\\n    def print_vars(self):\\n        print(self.first)\\nobj = a_sample_class(2,8)\\nobj.print_vars()',\n",
       "  'class a_sample_class:\\n    class_attr = 5\\n\\n    def__init__(self, one, two):\\n    #instance attribute\\n    self.first = one\\n    self.second = two\\n\\n#object is istance of class\\nobj = a_sample_class(17,42)\\n\\n#instance attrivute as property of object\\nprint(obj.first)\\n\\n#class attribute as property of object\\nprint(obj.class_attr)\\n\\n#instance attribute as property of class\\nprint(a_sample_class.first)\\n\\n#class attribute as property of class\\nprint(a_sample_class.class_attr)',\n",
       "  'class a_sample_class:\\n    class_attr = 5\\n\\n    def __init__(self, one, two):\\n    #instance attribute\\n    self.first = one\\n    self.second = two\\n\\n#object is istance of class\\nobj = a_sample_class(17,42)\\n\\n#instance attrivute as property of object\\nprint(obj.first)\\n\\n#class attribute as property of object\\nprint(obj.class_attr)\\n\\n#instance attribute as property of class\\nprint(a_sample_class.first)\\n\\n#class attribute as property of class\\nprint(a_sample_class.class_attr)',\n",
       "  'class a_sample_class:\\n    class_attr = 5\\n\\n    def __init__(self, one, two):\\n    #instance attribute\\n        self.first = one\\n        self.second = two\\n\\n#object is istance of class\\nobj = a_sample_class(17,42)\\n\\n#instance attrivute as property of object\\nprint(obj.first)\\n\\n#class attribute as property of object\\nprint(obj.class_attr)\\n\\n#instance attribute as property of class\\nprint(a_sample_class.first)\\n\\n#class attribute as property of class\\nprint(a_sample_class.class_attr)',\n",
       "  'class a_sample_class:\\n    class_attr = 5\\n\\n    def __init__(self, one, two):\\n    #instance attribute\\n        self.first = one\\n        self.second = two\\n\\n#object is istance of class\\nobj = a_sample_class(17,42)\\n\\n#instance attrivute as property of object\\nprint(obj.first)\\n\\n#class attribute as property of object\\nprint(obj.class_attr)\\n\\n#instance attribute as property of class\\n#print(a_sample_class.first) #AttributeError because class has no instance\\n\\n#class attribute as property of class\\nprint(a_sample_class.class_attr)',\n",
       "  'class a_sample_class:\\n    class_attr = 5\\n\\n    def __init__(self, one, two):\\n    #instance attribute\\n        self.first = one\\n        self.second = two\\n\\n#object is istance of class\\nobj = a_sample_class(17,42)\\n\\n#instance attrivute as property of object\\nprint(obj.first)\\n\\n#class attribute as property of object\\nprint(obj.class_attr)\\n\\n#instance attribute as property of class\\nprint(a_sample_class.first) #AttributeError because class has no instance\\n\\n#class attribute as property of class\\nprint(a_sample_class.class_attr)',\n",
       "  'help(obj)',\n",
       "  'globals()',\n",
       "  '# returns the current module namespace\\n# namespace = mapping between objects and current names. These are defined names and they also include information about the objects that each name\\nglobals()'],\n",
       " 'Out': {10: {...}},\n",
       " 'get_ipython': <bound method InteractiveShell.get_ipython of <ipykernel.zmqshell.ZMQInteractiveShell object at 0x000002B1072B7640>>,\n",
       " 'exit': <IPython.core.autocall.ZMQExitAutocall at 0x2b1072d3310>,\n",
       " 'quit': <IPython.core.autocall.ZMQExitAutocall at 0x2b1072d3310>,\n",
       " 'open': <function io.open(file, mode='r', buffering=-1, encoding=None, errors=None, newline=None, closefd=True, opener=None)>,\n",
       " '_': {...},\n",
       " '__': '',\n",
       " '___': '',\n",
       " '__session__': 'C:\\\\Users\\\\aga20\\\\comp_sci2\\\\comp_sci\\\\AlecArnold_csci1070\\\\Notes-1-29.ipynb',\n",
       " '_i': 'globals()',\n",
       " '_ii': 'help(obj)',\n",
       " '_iii': 'class a_sample_class:\\n    class_attr = 5\\n\\n    def __init__(self, one, two):\\n    #instance attribute\\n        self.first = one\\n        self.second = two\\n\\n#object is istance of class\\nobj = a_sample_class(17,42)\\n\\n#instance attrivute as property of object\\nprint(obj.first)\\n\\n#class attribute as property of object\\nprint(obj.class_attr)\\n\\n#instance attribute as property of class\\nprint(a_sample_class.first) #AttributeError because class has no instance\\n\\n#class attribute as property of class\\nprint(a_sample_class.class_attr)',\n",
       " '_i1': 'class a_sample_class:\\n\\n    #default/basic constructor\\n    def __init__(self):\\n        self.var = 0\\n\\n    #an instance method for printing\\n    def print_vars(self):\\n        print(self.var)\\n\\n#create isntance of class\\nobj = a_sample_class()\\n\\n#call instance method to get value for var\\nobj.print_vars()',\n",
       " 'a_sample_class': __main__.a_sample_class,\n",
       " 'obj': <__main__.a_sample_class at 0x2b1072fd3a0>,\n",
       " '_i2': 'class a_sample_class:\\n\\n    #parameterized constructor\\n    def __init__(self, one, two):\\n        self.first = one\\n\\n    #an instance method for printing\\n    def print_vars(self):\\n        print(self.first)\\nobj = a_simple_class(2,8)\\nobj.print_vars()',\n",
       " '_i3': 'class a_sample_class:\\n\\n    #parameterized constructor\\n    def __init__(self, one, two):\\n        self.first = one\\n\\n    #an instance method for printing\\n    def print_vars(self):\\n        print(self.first)\\nobj = a_sample_class(2,8)\\nobj.print_vars()',\n",
       " '_i4': 'class a_sample_class:\\n    class_attr = 5\\n\\n    def__init__(self, one, two):\\n    #instance attribute\\n    self.first = one\\n    self.second = two\\n\\n#object is istance of class\\nobj = a_sample_class(17,42)\\n\\n#instance attrivute as property of object\\nprint(obj.first)\\n\\n#class attribute as property of object\\nprint(obj.class_attr)\\n\\n#instance attribute as property of class\\nprint(a_sample_class.first)\\n\\n#class attribute as property of class\\nprint(a_sample_class.class_attr)',\n",
       " '_i5': 'class a_sample_class:\\n    class_attr = 5\\n\\n    def __init__(self, one, two):\\n    #instance attribute\\n    self.first = one\\n    self.second = two\\n\\n#object is istance of class\\nobj = a_sample_class(17,42)\\n\\n#instance attrivute as property of object\\nprint(obj.first)\\n\\n#class attribute as property of object\\nprint(obj.class_attr)\\n\\n#instance attribute as property of class\\nprint(a_sample_class.first)\\n\\n#class attribute as property of class\\nprint(a_sample_class.class_attr)',\n",
       " '_i6': 'class a_sample_class:\\n    class_attr = 5\\n\\n    def __init__(self, one, two):\\n    #instance attribute\\n        self.first = one\\n        self.second = two\\n\\n#object is istance of class\\nobj = a_sample_class(17,42)\\n\\n#instance attrivute as property of object\\nprint(obj.first)\\n\\n#class attribute as property of object\\nprint(obj.class_attr)\\n\\n#instance attribute as property of class\\nprint(a_sample_class.first)\\n\\n#class attribute as property of class\\nprint(a_sample_class.class_attr)',\n",
       " '_i7': 'class a_sample_class:\\n    class_attr = 5\\n\\n    def __init__(self, one, two):\\n    #instance attribute\\n        self.first = one\\n        self.second = two\\n\\n#object is istance of class\\nobj = a_sample_class(17,42)\\n\\n#instance attrivute as property of object\\nprint(obj.first)\\n\\n#class attribute as property of object\\nprint(obj.class_attr)\\n\\n#instance attribute as property of class\\n#print(a_sample_class.first) #AttributeError because class has no instance\\n\\n#class attribute as property of class\\nprint(a_sample_class.class_attr)',\n",
       " '_i8': 'class a_sample_class:\\n    class_attr = 5\\n\\n    def __init__(self, one, two):\\n    #instance attribute\\n        self.first = one\\n        self.second = two\\n\\n#object is istance of class\\nobj = a_sample_class(17,42)\\n\\n#instance attrivute as property of object\\nprint(obj.first)\\n\\n#class attribute as property of object\\nprint(obj.class_attr)\\n\\n#instance attribute as property of class\\nprint(a_sample_class.first) #AttributeError because class has no instance\\n\\n#class attribute as property of class\\nprint(a_sample_class.class_attr)',\n",
       " '_i9': 'help(obj)',\n",
       " '_i10': 'globals()',\n",
       " '_10': {...},\n",
       " '_i11': '# returns the current module namespace\\n# namespace = mapping between objects and current names. These are defined names and they also include information about the objects that each name\\nglobals()'}"
      ]
     },
     "execution_count": 11,
     "metadata": {},
     "output_type": "execute_result"
    }
   ],
   "source": [
    "# returns the current module namespace\n",
    "# namespace = mapping between objects and current names. These are defined names and they also include information about the objects that each name\n",
    "# references.\n",
    "globals()\n"
   ]
  },
  {
   "cell_type": "code",
   "execution_count": 20,
   "id": "39d8921c-adf6-4abd-9bfa-62e028a0b679",
   "metadata": {},
   "outputs": [],
   "source": [
    "# Instance, Class, and Static Methods #internal variables usually start with underscore. Stylistic.\n",
    "class candy:\n",
    "    def __init__(self,\n",
    "                 _brand,\n",
    "                 _is_caramel=False,\n",
    "                 _has_nuts=False,\n",
    "                 _calories=200,\n",
    "                 _type='chocolate',\n",
    "                _size='big'):\n",
    "        self.type=_type\n",
    "        self.brand = _brand\n",
    "        self.is_caramel = _is_caramel\n",
    "        self.calories = _calories\n",
    "        self.has_nuts = _has_nuts\n",
    "        self.size = _size\n",
    "\n",
    "#instance method can access and modify both the class and object state.\n",
    "#printing is accessing the state\n",
    "    def display(self):\n",
    "        print(f'My favorite candy is {self.brand} {self.type}')\n",
    "\n",
    "        favorite_candy = candy(_brand='Reeses')\n",
    "        favorite_candy.display()\n",
    "    #class method - used to modify the state of a class (for all instances)\n",
    "    @classmethod\n",
    "    def snickers(cls):\n",
    "        return cls('Snickers',_is_caramel=True,_has_nuts=True)\n",
    "    \n",
    "    #static method - used for comparison or validation\n",
    "    #commonly used in data for checking if data meets conditions\n",
    "    #if you want to check the value without needing an instance of it\n",
    "    @staticmethod\n",
    "    def calories(size,n):\n",
    "        if size == 'Large':\n",
    "            calories = 500\n",
    "        elif sizez == 'regular':\n",
    "            calories = 350\n",
    "        elif size == 'funsized':\n",
    "            calories = 100\n",
    "        else:\n",
    "            calories = 0\n",
    "        calories = calories*n\n",
    "        return calories"
   ]
  },
  {
   "cell_type": "code",
   "execution_count": 16,
   "id": "d45e33b7-9809-4c39-9fe3-300984d73ca3",
   "metadata": {},
   "outputs": [
    {
     "ename": "AttributeError",
     "evalue": "'candy' object has no attribute 'display'",
     "output_type": "error",
     "traceback": [
      "\u001b[1;31m---------------------------------------------------------------------------\u001b[0m",
      "\u001b[1;31mAttributeError\u001b[0m                            Traceback (most recent call last)",
      "Cell \u001b[1;32mIn[16], line 2\u001b[0m\n\u001b[0;32m      1\u001b[0m favorite_candy \u001b[38;5;241m=\u001b[39m candy(_brand\u001b[38;5;241m=\u001b[39m\u001b[38;5;124m'\u001b[39m\u001b[38;5;124mReeses\u001b[39m\u001b[38;5;124m'\u001b[39m)\n\u001b[1;32m----> 2\u001b[0m \u001b[43mfavorite_candy\u001b[49m\u001b[38;5;241;43m.\u001b[39;49m\u001b[43mdisplay\u001b[49m()\n",
      "\u001b[1;31mAttributeError\u001b[0m: 'candy' object has no attribute 'display'"
     ]
    }
   ],
   "source": []
  },
  {
   "cell_type": "code",
   "execution_count": null,
   "id": "6ab2363b-974f-4e43-be14-fa1442f0ca2f",
   "metadata": {},
   "outputs": [],
   "source": [
    "#create a snickers bar instance\n",
    "snickers_bar = candy.snickers()"
   ]
  },
  {
   "cell_type": "code",
   "execution_count": 21,
   "id": "8de6f3c8-13d3-4576-a638-539fee84347f",
   "metadata": {},
   "outputs": [
    {
     "ename": "AttributeError",
     "evalue": "type object 'candy' has no attribute 'calories'",
     "output_type": "error",
     "traceback": [
      "\u001b[1;31m---------------------------------------------------------------------------\u001b[0m",
      "\u001b[1;31mAttributeError\u001b[0m                            Traceback (most recent call last)",
      "Cell \u001b[1;32mIn[21], line 1\u001b[0m\n\u001b[1;32m----> 1\u001b[0m \u001b[43mcandy\u001b[49m\u001b[38;5;241;43m.\u001b[39;49m\u001b[43mcalories\u001b[49m(\u001b[38;5;124m'\u001b[39m\u001b[38;5;124mfunsized\u001b[39m\u001b[38;5;124m'\u001b[39m,\u001b[38;5;241m40\u001b[39m)\n",
      "\u001b[1;31mAttributeError\u001b[0m: type object 'candy' has no attribute 'calories'"
     ]
    }
   ],
   "source": [
    "candy.calories('funsized',40)"
   ]
  },
  {
   "cell_type": "code",
   "execution_count": null,
   "id": "0537ca47-52ae-41ef-97ae-69e19bda7bbe",
   "metadata": {},
   "outputs": [],
   "source": []
  }
 ],
 "metadata": {
  "kernelspec": {
   "display_name": "Python 3 (ipykernel)",
   "language": "python",
   "name": "python3"
  },
  "language_info": {
   "codemirror_mode": {
    "name": "ipython",
    "version": 3
   },
   "file_extension": ".py",
   "mimetype": "text/x-python",
   "name": "python",
   "nbconvert_exporter": "python",
   "pygments_lexer": "ipython3",
   "version": "3.9.1"
  }
 },
 "nbformat": 4,
 "nbformat_minor": 5
}
