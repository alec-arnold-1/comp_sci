{
 "cells": [
  {
   "cell_type": "markdown",
   "metadata": {},
   "source": [
    "# Warmup\n",
    "\n",
    "What are bagging and boosting? What do they help us reduce?\n",
    "\n",
    "Boosting Train models sequentially, focusing on the error made by the previous model.\n",
    "\n",
    "Bagging Combines multiple models trained on different subsets of data.\n",
    "\n",
    "\n",
    "Write a python function that will swap two elements in a list. It will take in a list, the position of the first element, and the position of the second element. It will return a new lsit with the elements swapped in the passed in positions.\n",
    "\n",
    "\n",
    "\n"
   ]
  },
  {
   "cell_type": "code",
   "execution_count": null,
   "metadata": {},
   "outputs": [],
   "source": [
    "numbers = [x for x in ]\n",
    "\n",
    "list = []"
   ]
  }
 ],
 "metadata": {
  "kernelspec": {
   "display_name": "Python 3",
   "language": "python",
   "name": "python3"
  },
  "language_info": {
   "name": "python",
   "version": "3.9.1"
  }
 },
 "nbformat": 4,
 "nbformat_minor": 2
}
