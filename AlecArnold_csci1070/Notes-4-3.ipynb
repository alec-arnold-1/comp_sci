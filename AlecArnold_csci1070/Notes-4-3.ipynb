{
 "cells": [
  {
   "cell_type": "markdown",
   "metadata": {},
   "source": [
    "# Warmup\n",
    "\n",
    "What are bagging and boosting? What do they help us reduce?\n",
    "\n",
    "Boosting Train models sequentially, focusing on the error made by the previous model.\n",
    "\n",
    "Bagging Combines multiple models trained on different subsets of data.\n",
    "\n",
    "\n",
    "Write a python function that will swap two elements in a list. It will take in a list, the position of the first element, and the position of the second element. It will return a new lsit with the elements swapped in the passed in positions.\n",
    "\n",
    "\n",
    "\n"
   ]
  },
  {
   "cell_type": "code",
   "execution_count": null,
   "metadata": {},
   "outputs": [],
   "source": [
    "numbers = [x for x in ]\n",
    "\n",
    "for i in range(len(user_list)):\n",
    "\n",
    "\n",
    "# Correct answer\n",
    "    \n",
    "def swapper(list: list(int),pos1: int, pos2: int) -> list(int):\n",
    "\n",
    "    list(pos1), list(pos2) = list(pos2), list(pos1)\n",
    "    "
   ]
  },
  {
   "cell_type": "markdown",
   "metadata": {},
   "source": [
    "What is an ROC curve? Why is it useful over simpy using the true positive and false positive rates?\n",
    "\n",
    "A receiver operating characteristic curve, or ROC curve, is a graphical plot that illustrates the performance of a binary classifier model at varying threshold values. The ROC curve is the plot of the true positive rate against the false positive rate at each threshold setting. \n",
    "\n",
    "\n",
    "What is AUC and what does it tell us?"
   ]
  },
  {
   "cell_type": "code",
   "execution_count": null,
   "metadata": {},
   "outputs": [],
   "source": [
    "# Precision recall curve summarizes the tradeoff between tue positive rates and positivevalues\n",
    "\n",
    "from sklearn.metrics import precision_recall_curve, f1_score, "
   ]
  },
  {
   "cell_type": "markdown",
   "metadata": {},
   "source": [
    "f"
   ]
  }
 ],
 "metadata": {
  "kernelspec": {
   "display_name": "Python 3",
   "language": "python",
   "name": "python3"
  },
  "language_info": {
   "name": "python",
   "version": "undefined.undefined.undefined"
  }
 },
 "nbformat": 4,
 "nbformat_minor": 2
}
