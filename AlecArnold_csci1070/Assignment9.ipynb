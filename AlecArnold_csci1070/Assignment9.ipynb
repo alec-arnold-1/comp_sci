{
 "cells": [
  {
   "cell_type": "markdown",
   "metadata": {},
   "source": [
    "(5 pts) Perform additional cleaning beyond what you did in Assignment 6. Specify the improvements you made. \n",
    "(8 pts) Perform combined, oversampling, or undersampling on the dataset you selected for Assignment 6.  Explain why you chose what you did. How did this impact the results of your KNN and Logistic Regression? \n",
    "(3 pts) Create an ROC Curve for the model https://scikit-learn.org/stable/modules/generated/sklearn.metrics.roc_curve.htmlLinks to an external site. and calculate the AUC https://scikit-learn.org/stable/modules/generated/sklearn.metrics.auc.htmlLinks to an external site. \n",
    "(7 pts) Perform a linear SVM to predict the result from your dataset.\n",
    "You can use this code, but otherwise, follow standard practices we have already used many times: \n",
    "from sklearn.svm import SVC\n",
    "\n",
    "classifier = SVC(kernel='linear')\n",
    "\n",
    "How did the SVM model perform? \n",
    "5. (2 pts) What is outlier detection? Why is it important? What methods can you use for outlier detection?\n",
    "\n",
    "Useful references:\n",
    "https://scikit-learn.org/stable/modules/svm.htmlLinks to an external site.\n",
    "\n",
    "https://builtin.com/data-science/outlier-detection-pythonLinks to an external site. \n",
    "\n",
    "https://www.analyticsvidhya.com/blog/2021/05/why-you-shouldnt-just-delete-outliers/Links to an external site. \n",
    "\n",
    "Extra credit: (up to 3 pts) use type hints and make sure all your code except the import statements uses functions. "
   ]
  }
 ],
 "metadata": {
  "kernelspec": {
   "display_name": "Python 3",
   "language": "python",
   "name": "python3"
  },
  "language_info": {
   "name": "python",
   "version": "3.9.1"
  }
 },
 "nbformat": 4,
 "nbformat_minor": 2
}
