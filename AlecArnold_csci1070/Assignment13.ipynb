{
 "cells": [
  {
   "cell_type": "markdown",
   "metadata": {},
   "source": [
    "What is a neural network? What are the general steps required to build a neural network?\n",
    "\n",
    "\n",
    "Generally, how do you check the performance of a neural netowrk? Why is this the case?\n",
    "\n",
    "https://machinelearningmastery.com/tutorial-first-neural-network-python-keras/"
   ]
  },
  {
   "cell_type": "code",
   "execution_count": null,
   "metadata": {},
   "outputs": [],
   "source": [
    "# Clean the data or do additional cleaning if you have used the dataset for another assignment.\n",
    "# Specify the improvements (at least 2) that you made to cleaning"
   ]
  },
  {
   "cell_type": "code",
   "execution_count": null,
   "metadata": {},
   "outputs": [],
   "source": [
    "# Create a neural network using Keras or PyTorch to predict the outcome of your datasets"
   ]
  },
  {
   "cell_type": "code",
   "execution_count": null,
   "metadata": {},
   "outputs": [],
   "source": [
    "#Compare the performance of the neural networks to another model you created. \n",
    "#Which performed better? Why do you think that is?"
   ]
  }
 ],
 "metadata": {
  "language_info": {
   "name": "python"
  }
 },
 "nbformat": 4,
 "nbformat_minor": 2
}
