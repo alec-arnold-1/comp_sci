{
 "cells": [
  {
   "cell_type": "markdown",
   "metadata": {},
   "source": [
    "# (Warmup)\n",
    "\n",
    "What does ACID stand for and why is it so important for databases?\n"
   ]
  },
  {
   "cell_type": "markdown",
   "metadata": {},
   "source": [
    "ACID stands for Atomicity, Consistency, Isolation, Durability. It is important because it guarantees the accuracy of the database."
   ]
  },
  {
   "cell_type": "markdown",
   "metadata": {},
   "source": [
    "# Data modeling basics"
   ]
  },
  {
   "cell_type": "markdown",
   "metadata": {},
   "source": [
    "Degrees of relationships\n",
    "\n",
    "Relationship can be mandatory or optional\n",
    "\n",
    "O = optioal\n",
    "\n",
    "| = mandatory\n",
    "\n",
    "Cardinality = relationship of data in one enetity to another entity (table to another table)\n",
    "\n",
    "O = zero\n",
    "\n",
    "| = one\n",
    "\n",
    "\">\" = many"
   ]
  },
  {
   "cell_type": "markdown",
   "metadata": {},
   "source": [
    "Review"
   ]
  }
 ],
 "metadata": {
  "kernelspec": {
   "display_name": "Python 3",
   "language": "python",
   "name": "python3"
  },
  "language_info": {
   "name": "python",
   "version": "3.9.1"
  }
 },
 "nbformat": 4,
 "nbformat_minor": 2
}
