{
 "cells": [
  {
   "cell_type": "markdown",
   "metadata": {},
   "source": [
    "# Quiz 9\n",
    "\n",
    " (3 pts) Work to improve the model performance for the diabetes decision tree we created in class. You should be able to improve the precision and recall to be above .8 and .7 respectively. You can improve the preprocessing OR alter the model itself.\n",
    "\n",
    "(2 pts) Create a function that accepts an array of names and returns a string formatted as a list of names separated by commas EXCEPT for the last two names, which are separated by an ampersand (and sign - &)\n",
    "\n",
    "Example input:\n",
    "[ {'name': 'Niles'}, {'name': 'C.C.'}, {'name': 'Fran'} ] Example output:\n",
    "Niles, C.C. & Fran"
   ]
  },
  {
   "cell_type": "code",
   "execution_count": 267,
   "metadata": {},
   "outputs": [],
   "source": [
    "import pandas as pd\n",
    "import matplotlib.pyplot as plt\n",
    "from sklearn.linear_model import LogisticRegression\n",
    "from sklearn.model_selection import train_test_split\n",
    "from sklearn.preprocessing import StandardScaler\n",
    "from imblearn.over_sampling import RandomOverSampler\n",
    "from sklearn import tree\n",
    "\n",
    "\n",
    "diabetes_df = pd.read_csv(\"diabetes.csv\")\n",
    "\n",
    "# Pre processing\n",
    "\n",
    "diabetes_df2 = diabetes_df.dropna()\n",
    "\n",
    "\n",
    "# Account for Multicollinearity\n",
    "diabetes_df2['Age_Pregnancies'] = diabetes_df2['Age'] + diabetes_df2['Pregnancies']\n",
    "\n",
    "# Drop low correlation values / data values that I combined into 1 column\n",
    "diabetes_df4 = diabetes_df2.drop(['BloodPressure','SkinThickness','Pregnancies','Age'], axis=1)\n",
    "#diabetes_df4 = diabetes_df2.drop(['Pregnancies','Age'], axis=1)\n",
    "\n",
    "\n",
    "X = diabetes_df4.drop('Outcome', axis=1)\n",
    "y = diabetes_df4['Outcome']\n",
    "\n",
    "X_train, X_test, y_train, y_test = train_test_split(X, y,\n",
    "                                                    test_size=0.1, \n",
    "                                                    random_state=32,stratify=y)\n",
    "\n",
    "\n",
    "sc = StandardScaler()\n",
    "X_train_scaler = sc.fit_transform(X_train)\n",
    "X_test_scaler = sc.fit_transform(X_test)\n",
    "\n",
    "# ros = RandomOverSampler(random_state=32)\n",
    "# X_resampled, y_resampled = ros.fit_resample(X_train_scaler, y_train)\n",
    "\n",
    "\n",
    "\n",
    "# from imblearn.under_sampling import ClusterCentroids\n",
    "\n",
    "# rus = ClusterCentroids(random_state=32)\n",
    "# X_resampled, y_resampled = rus.fit_resample(X_train_scaler, y_train)\n",
    "# model = LogisticRegression(random_state=32)\n",
    "# model.fit(X_resampled, y_resampled)\n",
    "# y_pred = model.predict(X_test)\n",
    "\n",
    "model = tree.DecisionTreeClassifier(random_state=32, min_impurity_decrease = .004\n",
    ")\n",
    "model.fit(X_train_scaler, y_train)\n",
    "y_pred = model.predict(X_test_scaler)\n"
   ]
  },
  {
   "cell_type": "code",
   "execution_count": null,
   "metadata": {},
   "outputs": [],
   "source": [
    "from sklearn.metrics import ConfusionMatrixDisplay\n",
    "ConfusionMatrixDisplay.from_predictions(y_test, y_pred)"
   ]
  },
  {
   "cell_type": "code",
   "execution_count": 268,
   "metadata": {},
   "outputs": [
    {
     "name": "stdout",
     "output_type": "stream",
     "text": [
      "              precision    recall  f1-score   support\n",
      "\n",
      "           0       0.89      0.94      0.91        50\n",
      "           1       0.88      0.78      0.82        27\n",
      "\n",
      "    accuracy                           0.88        77\n",
      "   macro avg       0.88      0.86      0.87        77\n",
      "weighted avg       0.88      0.88      0.88        77\n",
      "\n"
     ]
    }
   ],
   "source": [
    "# from imblearn.metrics import classification_report_imbalanced\n",
    "# print(classification_report_imbalanced(y_test,y_pred))\n",
    "from sklearn.metrics import classification_report\n",
    "print(classification_report(y_test,y_pred))"
   ]
  },
  {
   "cell_type": "code",
   "execution_count": 281,
   "metadata": {},
   "outputs": [
    {
     "name": "stdout",
     "output_type": "stream",
     "text": [
      "Enter your names\n",
      "Niles, C.C. & Fran\n"
     ]
    }
   ],
   "source": [
    "def name_format(names):\n",
    "    if len(names) == 1:\n",
    "        return names[0]['name']\n",
    "    else:\n",
    "        names_formatted = names[0]['name']\n",
    "        for x in range(1, len(names) - 1):\n",
    "            names_formatted += ', ' + names[x]['name']\n",
    "        names_formatted += \" & \" + names[-1]['name']\n",
    "        return names_formatted\n",
    "\n",
    "print ('Enter your names')\n",
    "user_names = eval(input())\n",
    "formatted = name_format(user_names)\n",
    "print(formatted)\n",
    "\n"
   ]
  }
 ],
 "metadata": {
  "kernelspec": {
   "display_name": "Python 3",
   "language": "python",
   "name": "python3"
  },
  "language_info": {
   "codemirror_mode": {
    "name": "ipython",
    "version": 3
   },
   "file_extension": ".py",
   "mimetype": "text/x-python",
   "name": "python",
   "nbconvert_exporter": "python",
   "pygments_lexer": "ipython3",
   "version": "3.9.1"
  }
 },
 "nbformat": 4,
 "nbformat_minor": 2
}
