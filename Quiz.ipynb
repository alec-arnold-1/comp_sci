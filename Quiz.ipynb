{
 "cells": [
  {
   "cell_type": "code",
   "execution_count": 22,
   "id": "4ec682b1-47e1-46bd-b9e0-e911e55ade44",
   "metadata": {},
   "outputs": [
    {
     "name": "stdout",
     "output_type": "stream",
     "text": [
      "March is my birthday.\n"
     ]
    }
   ],
   "source": [
    "bday = \"March\"\n",
    "months = [\"January\",\"February\",\"March\",\"April\",\"May\",\"June\",\"July\",\"August\",\"September\",\"October\",\"November\",\"December\"]\n",
    "for month in months:\n",
    "    if month == bday:\n",
    "        print(month + \" is my birthday.\")"
   ]
  },
  {
   "cell_type": "markdown",
   "id": "ca316d5d-107f-4cf3-a782-b8c30dcb95e9",
   "metadata": {},
   "source": [
    "![quiz1ss.png](attachment:ef6c652a-0693-4e3c-b8c6-d554eed0050a.png)"
   ]
  },
  {
   "cell_type": "code",
   "execution_count": null,
   "id": "ad3dd564-a8c9-4ed7-8520-5decd074f51c",
   "metadata": {},
   "outputs": [],
   "source": []
  }
 ],
 "metadata": {
  "kernelspec": {
   "display_name": "Python 3 (ipykernel)",
   "language": "python",
   "name": "python3"
  },
  "language_info": {
   "codemirror_mode": {
    "name": "ipython",
    "version": 3
   },
   "file_extension": ".py",
   "mimetype": "text/x-python",
   "name": "python",
   "nbconvert_exporter": "python",
   "pygments_lexer": "ipython3",
   "version": "3.9.1"
  }
 },
 "nbformat": 4,
 "nbformat_minor": 5
}
