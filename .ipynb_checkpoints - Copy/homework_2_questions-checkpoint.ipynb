{
 "cells": [
  {
   "cell_type": "markdown",
   "id": "4d7e762c-9fc0-4cd3-b0db-89ca17152808",
   "metadata": {},
   "source": [
    "### Homework 2\n",
    "#### Loops, Functions and Classes\n",
    "\n",
    "1. Do this homework **in order**. \n",
    "2. Be sure to have a solid understanding of Functions before working with Classes.\n",
    "\n",
    "In general, I don't expect deep knowledge of classes in this class. What's covered here is roughly the extent of it. Remember, classes are a tricky concept to master in programming, but they are more straightforward in Python than many other languages. \n",
    "\n",
    "Also, do not hesitate to reach out to me for help! When I first learned to program the concepts covered in assignments like this blew my mind. If you find this difficult, you are not alone! I was once in the same boat as well. "
   ]
  },
  {
   "cell_type": "markdown",
   "id": "691e2265-ff44-4748-b16e-d0a407370fb9",
   "metadata": {},
   "source": [
    "1. (2 pts) Loop through the string and eliminate all the asterisks."
   ]
  },
  {
   "cell_type": "code",
   "execution_count": 40,
   "id": "ae0d2ee2-4281-49ad-84f2-c2abad57067d",
   "metadata": {},
   "outputs": [
    {
     "name": "stdout",
     "output_type": "stream",
     "text": [
      "My computer has gone crazy and added extra symbols.\n"
     ]
    }
   ],
   "source": [
    "asterisk = 'My *compu*ter has go*ne craz***y an*d add*ed extra *symbols.*'\n",
    "# your code here\n",
    "remove_asterisk = \"*\"\n",
    "asterisk_string = \"\"\n",
    "\n",
    "for character in asterisk:\n",
    "    if character != remove_asterisk:\n",
    "        asterisk_string += character\n",
    "print(asterisk_string)"
   ]
  },
  {
   "cell_type": "markdown",
   "id": "bdec3ba8-5372-4ad9-a03b-580c04e3a431",
   "metadata": {},
   "source": [
    "2. (1 pt) Write a while loop that increments counter until it reaches 7."
   ]
  },
  {
   "cell_type": "code",
   "execution_count": 8,
   "id": "e333acd1-7e6a-4c8b-a51f-3fba6492bcc9",
   "metadata": {},
   "outputs": [
    {
     "name": "stdout",
     "output_type": "stream",
     "text": [
      "0\n",
      "1\n",
      "2\n",
      "3\n",
      "4\n",
      "5\n",
      "6\n",
      "7\n"
     ]
    }
   ],
   "source": [
    "counter = 0\n",
    "# your code here\n",
    "while counter < 8:\n",
    "    print(counter)\n",
    "    counter += 1"
   ]
  },
  {
   "cell_type": "markdown",
   "id": "f5d8735c-5da0-47e3-a2a5-2d99561e6ce9",
   "metadata": {},
   "source": [
    "3. (3 pts) Loop over double_trouble and eliminate any 'mosquito'.\n",
    "\n",
    "Hint: check if the type of an element you are iterating through is a list. If so, iterate through it. [isinstance()](https://docs.python.org/3.4/library/functions.html#isinstance) is a good function for this. You can also use type() but its a bit odd here. "
   ]
  },
  {
   "cell_type": "code",
   "execution_count": 98,
   "id": "87d2d239-27ef-4ba8-a462-4e03967b359f",
   "metadata": {},
   "outputs": [
    {
     "name": "stdout",
     "output_type": "stream",
     "text": [
      "['cat', 'dog', ['mouse', 'bat'], ['elephant', 'dog', 'whale', 'lion', 32], 'bird']\n"
     ]
    }
   ],
   "source": [
    "double_trouble = ['cat','dog', ['mouse','mosquito','bat','mosquito'],['elephant','dog','whale','lion',32,'mosquito'],'bird',[],'mosquito']\n",
    "# your code here\n",
    "result = []\n",
    "for item in double_trouble:\n",
    "    if isinstance(item, list):\n",
    "        mosquito = [nested_item for nested_item in item if nested_item != \"mosquito\"]\n",
    "        if mosquito:\n",
    "                result.append(mosquito)\n",
    "    else:\n",
    "        if item != \"mosquito\":\n",
    "            result.append(item)\n",
    "        \n",
    "        \n",
    "print(result)\n",
    "\n"
   ]
  },
  {
   "cell_type": "markdown",
   "id": "bddaa2d7-917a-4c11-8ccc-10b926539945",
   "metadata": {},
   "source": [
    "4. (3 pts) Create a function that takes in two numbers.\n",
    "If the numbers are both even add them and return the result.\n",
    "\n",
    "If the numbers are odd, subtract the second number from the first and return the result.\n",
    "\n",
    "(Assume you'll always get integers and if you dont, return a message indicating the input is wrong)"
   ]
  },
  {
   "cell_type": "code",
   "execution_count": 102,
   "id": "7cf1850c-b7a4-4d13-8488-1ffd269fa79b",
   "metadata": {},
   "outputs": [
    {
     "name": "stdout",
     "output_type": "stream",
     "text": [
      "Enter a number.\n"
     ]
    },
    {
     "name": "stdin",
     "output_type": "stream",
     "text": [
      " 10\\\n"
     ]
    },
    {
     "ename": "ValueError",
     "evalue": "invalid literal for int() with base 10: '10\\\\'",
     "output_type": "error",
     "traceback": [
      "\u001b[1;31m---------------------------------------------------------------------------\u001b[0m",
      "\u001b[1;31mValueError\u001b[0m                                Traceback (most recent call last)",
      "Cell \u001b[1;32mIn[102], line 7\u001b[0m\n\u001b[0;32m      4\u001b[0m     \u001b[38;5;28mprint\u001b[39m(\u001b[38;5;124m\"\u001b[39m\u001b[38;5;124mThe input is wrong.\u001b[39m\u001b[38;5;124m\"\u001b[39m)\n\u001b[0;32m      6\u001b[0m \u001b[38;5;28;01melse\u001b[39;00m:\n\u001b[1;32m----> 7\u001b[0m     x \u001b[38;5;241m=\u001b[39m \u001b[38;5;28;43mint\u001b[39;49m\u001b[43m(\u001b[49m\u001b[43mx\u001b[49m\u001b[43m)\u001b[49m\n\u001b[0;32m      8\u001b[0m     \u001b[38;5;28mprint\u001b[39m(\u001b[38;5;124m\"\u001b[39m\u001b[38;5;124mEnter another number.\u001b[39m\u001b[38;5;124m\"\u001b[39m)\n\u001b[0;32m      9\u001b[0m     y \u001b[38;5;241m=\u001b[39m \u001b[38;5;28minput\u001b[39m()\n",
      "\u001b[1;31mValueError\u001b[0m: invalid literal for int() with base 10: '10\\\\'"
     ]
    }
   ],
   "source": [
    "print(\"Enter a number.\")\n",
    "x = input()\n",
    "if isinstance(x, int):\n",
    "    print(\"The input is wrong.\")\n",
    "    \n",
    "else:\n",
    "    x = int(x)\n",
    "    print(\"Enter another number.\")\n",
    "    y = input()\n",
    "    if isinstance(y, int):\n",
    "        print(\"The input is wrong.\")\n",
    "    else:\n",
    "        y = int(y)\n",
    "        if x % 2 == 0: \n",
    "            if y % 2 == 0:\n",
    "                sum = x + y\n",
    "                print (sum)\n",
    "        elif x % 2 != 0:\n",
    "            if y % 2 != 0:\n",
    "                difference = x - y\n",
    "                print(difference)\n",
    "        else:\n",
    "            print(\"The input is wrong.\")\n",
    "    \n",
    "    "
   ]
  },
  {
   "cell_type": "markdown",
   "id": "4fe68a99-b731-4768-804f-87a81099581d",
   "metadata": {},
   "source": [
    "5. (5 pts) Create a function that prints a triangle of asterisks as below. \n",
    "The function accepts n as an integer and makes the longest leg of the triangle that length, decrementing by one until you close the triangle. The function also accepts a direction for the triangle as a variable. If you pass in \"base-up\" it returns the first, but \"base-down\" returns the second.\n",
    "For example, for a triangle where n = 5, the following would be produced:"
   ]
  },
  {
   "cell_type": "code",
   "execution_count": 96,
   "id": "989783e2-c5a8-4eb8-9b27-69c26863f89b",
   "metadata": {},
   "outputs": [
    {
     "name": "stdout",
     "output_type": "stream",
     "text": [
      "* \n",
      "* * \n",
      "* * * \n",
      "* * * * \n",
      "* * * * * \n"
     ]
    }
   ],
   "source": [
    "#Base-up triangle\n",
    "# * * * * *\n",
    "# * * * *\n",
    "# * * *\n",
    "# * *\n",
    "# *\n",
    "\n",
    "#Base-down triangle\n",
    "# *\n",
    "# * *\n",
    "# * * *\n",
    "# * * * *\n",
    "# * * * * *\n",
    "# print(\"Enter how long the base should be?\")\n",
    "# input(n)\n",
    "# print(\"Should the triangle be base-up or base-down?\")\n",
    "# input(direction)\n",
    "x=5\n",
    "direction = \"base-down\"\n",
    "def triangles(n,direction):\n",
    "    if direction == \"base-up\":\n",
    "        for x in range(n):\n",
    "            print(\"* \"*n)\n",
    "            n -= 1\n",
    "    elif direction == \"base-down\":\n",
    "        count = 1\n",
    "        for y in range(n):\n",
    "         \n",
    "            print(\"* \"*count)\n",
    "            count += 1\n",
    "    else:\n",
    "        print(\"Input a proper answer.\")\n",
    "triangles(x, direction)\n",
    "\n",
    "#triangles(n,direction)\n",
    "    \n",
    "    #if base == \"base-down\":\n",
    "\n",
    "    #elif base == \"base-up\":\n",
    "    \n",
    "    #else\n",
    "        #print(\"Error.\")"
   ]
  },
  {
   "cell_type": "markdown",
   "id": "9cbe4104-769f-49c0-94d8-8c9750f941bc",
   "metadata": {},
   "source": [
    "6. (3 pts) Add an attribute called `age` to the `__init__` method of the `Person` class.\n",
    "\n",
    "Create an instance of `Person()` and print the `age`."
   ]
  },
  {
   "cell_type": "code",
   "execution_count": 73,
   "id": "d9857301-6a2a-424f-bf03-b8da9bcc483c",
   "metadata": {},
   "outputs": [
    {
     "name": "stdout",
     "output_type": "stream",
     "text": [
      "18\n"
     ]
    }
   ],
   "source": [
    "class person():\n",
    "    \n",
    "    def __init__(self, name, occupation, country, age):\n",
    "        self.name = name\n",
    "        self.occupation = occupation\n",
    "        self.country = country\n",
    "        # you attribute goes here\n",
    "        self.age = age\n",
    "    \n",
    "the_person = person(\"Alec\", \"Student\", \"USA\", 18)\n",
    "print(the_person.age)\n",
    "\n",
    "\n",
    "\n",
    "\n",
    "\n",
    "    "
   ]
  },
  {
   "cell_type": "markdown",
   "id": "4f0f1b43-fefa-4f47-882f-f47800543fa9",
   "metadata": {},
   "source": [
    "7. (3 pts) Add a `static` method of your choice to the class below. \n",
    "\n",
    "Instantiate an object and call your method. \n",
    "\n",
    "What is a static method? (1 pt for your answer here) "
   ]
  },
  {
   "cell_type": "code",
   "execution_count": 99,
   "id": "8bdb974b-86b6-4376-ac0e-be5982fce59b",
   "metadata": {},
   "outputs": [
    {
     "name": "stdout",
     "output_type": "stream",
     "text": [
      "Meryl Streep: This is my line...\n",
      "Hello!\n"
     ]
    }
   ],
   "source": [
    "class actress():\n",
    "    def __init__(self, name = 'Meryl Streep'):\n",
    "        self.name = name\n",
    "        \n",
    "    def act(self, line):\n",
    "        print(f'{self.name}: {line}')\n",
    "        \n",
    "    # your static method goes here.\n",
    "    @staticmethod\n",
    "    def static_method():\n",
    "        print(\"Hello!\")\n",
    "meryl = actress()\n",
    "meryl.act('This is my line...')\n",
    "\n",
    "actress.static_method()"
   ]
  },
  {
   "cell_type": "markdown",
   "id": "d02a50c2-0df8-47cf-ba86-43c3fe9734e7",
   "metadata": {},
   "source": [
    "8. (5 pts) Create a class called `Dice` that accepts a single argument called `number_of_dice`. \n",
    "\n",
    "Create an instance method called `roll`. \n",
    "\n",
    "`roll` should randomly pick a number for each die when called and print the results as a list. \n",
    "\n",
    "Create an instance of `Dice`. Then call `roll()` on your instance.\n",
    "\n",
    "Hint: Inside your class create an empty list called `dice`."
   ]
  },
  {
   "cell_type": "code",
   "execution_count": 101,
   "id": "417e11af-458f-4307-b69a-ff20a39c9855",
   "metadata": {},
   "outputs": [
    {
     "name": "stdout",
     "output_type": "stream",
     "text": [
      "1\n"
     ]
    },
    {
     "ename": "NameError",
     "evalue": "name 'self' is not defined",
     "output_type": "error",
     "traceback": [
      "\u001b[1;31m---------------------------------------------------------------------------\u001b[0m",
      "\u001b[1;31mNameError\u001b[0m                                 Traceback (most recent call last)",
      "Cell \u001b[1;32mIn[101], line 12\u001b[0m\n\u001b[0;32m     10\u001b[0m         \u001b[38;5;28mself\u001b[39m\u001b[38;5;241m.\u001b[39mresult \u001b[38;5;241m=\u001b[39m [randrange(\u001b[38;5;241m1\u001b[39m,\u001b[38;5;241m7\u001b[39m) \u001b[38;5;28;01mfor\u001b[39;00m _dice \u001b[38;5;129;01min\u001b[39;00m \u001b[38;5;28mrange\u001b[39m(\u001b[38;5;28mself\u001b[39m\u001b[38;5;241m.\u001b[39mnumber_dice)]\n\u001b[0;32m     11\u001b[0m         \u001b[38;5;28;01mreturn\u001b[39;00m \u001b[38;5;28mself\u001b[39m\u001b[38;5;241m.\u001b[39mresult\n\u001b[1;32m---> 12\u001b[0m dice_a \u001b[38;5;241m=\u001b[39m \u001b[43mDice\u001b[49m\u001b[43m(\u001b[49m\u001b[43m)\u001b[49m\n\u001b[0;32m     13\u001b[0m dice_a\u001b[38;5;241m.\u001b[39mroll()\n",
      "Cell \u001b[1;32mIn[101], line 7\u001b[0m, in \u001b[0;36mDice.__init__\u001b[1;34m(_self, number_dice)\u001b[0m\n\u001b[0;32m      6\u001b[0m \u001b[38;5;28;01mdef\u001b[39;00m \u001b[38;5;21m__init__\u001b[39m (_self, number_dice\u001b[38;5;241m=\u001b[39m\u001b[38;5;241m1\u001b[39m):\n\u001b[1;32m----> 7\u001b[0m     \u001b[38;5;28;43mself\u001b[39;49m\u001b[38;5;241m.\u001b[39mnumber_dice \u001b[38;5;241m=\u001b[39m number_dice\n\u001b[0;32m      8\u001b[0m     \u001b[38;5;28mself\u001b[39m\u001b[38;5;241m.\u001b[39mdice \u001b[38;5;241m=\u001b[39m []\n",
      "\u001b[1;31mNameError\u001b[0m: name 'self' is not defined"
     ]
    }
   ],
   "source": [
    "# Helpful starter code\n",
    "from random import randrange\n",
    "\n",
    "print(randrange(1,7)) # randomly generates a number between 1 and 6\n",
    "class Dice:\n",
    "    def __init__ (_self, number_dice=1):\n",
    "        self.number_dice = number_dice\n",
    "        self.dice = []\n",
    "    def roll(self):\n",
    "        self.result = [randrange(1,7) for _dice in range(self.number_dice)]\n",
    "        return self.result\n",
    "dice_a = Dice()\n",
    "dice_a.roll()\n",
    "            "
   ]
  },
  {
   "cell_type": "markdown",
   "id": "627197ff-27e6-4839-a5c6-59cd6200d2fb",
   "metadata": {},
   "source": [
    "BONUS: (3 pts) Create a `class` called Car that accepts 3 attributes (make, model and year). \n",
    "\n",
    "In the `__init__` method give your instance those three attributes. \n",
    "\n",
    "Instantiate (create) an object that is your dream car. \n",
    "\n",
    "Print the make of your dream car using the object attributes. \n",
    "\n",
    "Then call the dir() method on your new object. (See your attrs are now included!)"
   ]
  },
  {
   "cell_type": "code",
   "execution_count": 67,
   "id": "2ffb5530-620a-43e0-8c48-4c9754f1f1b3",
   "metadata": {},
   "outputs": [
    {
     "name": "stdout",
     "output_type": "stream",
     "text": [
      "E30\n"
     ]
    }
   ],
   "source": [
    "class Car:\n",
    "    def __init__(self,\n",
    "                 _make,\n",
    "                 _model,\n",
    "                 _year):\n",
    "        self.make = _make\n",
    "        self.model = _model\n",
    "        self.year = _year\n",
    "\n",
    "    def display(self, _make): \n",
    "        \n",
    "        print(f\"The car make is: {self.make}\")\n",
    "\n",
    "\n",
    "       \n",
    "        Car.display()\n",
    "dream_car = Car(\"E30\",\"sedan\",1990)\n",
    "print(dream_car.make)\n",
    "\n"
   ]
  },
  {
   "cell_type": "code",
   "execution_count": null,
   "id": "2e1440a2-a091-47af-b427-1935a02ce8f2",
   "metadata": {},
   "outputs": [],
   "source": []
  }
 ],
 "metadata": {
  "kernelspec": {
   "display_name": "Python 3 (ipykernel)",
   "language": "python",
   "name": "python3"
  },
  "language_info": {
   "codemirror_mode": {
    "name": "ipython",
    "version": 3
   },
   "file_extension": ".py",
   "mimetype": "text/x-python",
   "name": "python",
   "nbconvert_exporter": "python",
   "pygments_lexer": "ipython3",
   "version": "3.9.1"
  }
 },
 "nbformat": 4,
 "nbformat_minor": 5
}
