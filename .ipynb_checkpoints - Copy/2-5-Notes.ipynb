import pandas as pd
csv_df = pd.read_csv('cars.csv',delimiter=";")
csv_df.head()

